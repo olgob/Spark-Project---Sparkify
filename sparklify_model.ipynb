{
 "cells": [
  {
   "cell_type": "markdown",
   "metadata": {},
   "source": [
    "# Sparkify Project Model and Result\n",
    "This workspace contains the code necessary to run the notebook on the full dataset available (12GB) deploying your cluster on the cloud. <br>\n",
    "\n",
    "- 1. Load and Clean Dataset\n",
    "- 2. Define the user dataframe with the features\n",
    "- 3. Rescaling and assembling of features\n",
    "- 4. Create and Train the models\n",
    "- 5. Evaluation of the models\n",
    "- 5. Summary and Conclusion"
   ]
  },
  {
   "cell_type": "markdown",
   "metadata": {},
   "source": [
    "# Import libraries"
   ]
  },
  {
   "cell_type": "code",
   "execution_count": 1,
   "metadata": {},
   "outputs": [],
   "source": [
    "# necessary if we use pyspark on a local machine\n",
    "import findspark\n",
    "findspark.init()\n",
    "\n",
    "\n",
    "from pyspark import SparkContext, SparkConf\n",
    "\n",
    "# data wrangling with dataframe\n",
    "from pyspark.sql import SparkSession, SQLContext, Window\n",
    "from pyspark.sql.functions import sum as Fsum\n",
    "from pyspark.sql.functions import lit, udf, lower, col, isnan, when, count, countDistinct, datediff, dayofyear, lag, year, month, dayofmonth, concat\n",
    "from pyspark.sql.types import StringType, IntegerType, StructType, TimestampType\n",
    "\n",
    "# machine learning\n",
    "from pyspark.ml import Pipeline\n",
    "from pyspark.ml.feature import VectorAssembler, StandardScaler, MinMaxScaler\n",
    "from pyspark.ml.classification import LogisticRegression, DecisionTreeClassifier, RandomForestClassifier, GBTClassifier\n",
    "from pyspark.ml.tuning import CrossValidator, ParamGridBuilder\n",
    "from pyspark.ml.evaluation import BinaryClassificationEvaluator, MulticlassClassificationEvaluator\n",
    "\n",
    "# other\n",
    "import numpy as np\n",
    "import pandas as pd\n",
    "import datetime\n",
    "import matplotlib.pyplot as plt\n",
    "\n",
    "%matplotlib inline"
   ]
  },
  {
   "cell_type": "code",
   "execution_count": 2,
   "metadata": {},
   "outputs": [],
   "source": [
    "# create a Spark session\n",
    "spark = SparkSession \\\n",
    ".builder \\\n",
    ".appName(\"sparkify\") \\\n",
    ".getOrCreate()"
   ]
  },
  {
   "cell_type": "markdown",
   "metadata": {},
   "source": [
    "# 1. Load and Clean Dataset"
   ]
  },
  {
   "cell_type": "code",
   "execution_count": 3,
   "metadata": {},
   "outputs": [],
   "source": [
    "# Load subset data localy.\n",
    "path = \"mini_sparkify_event_data.json\"\n",
    "df = spark.read.json(path)"
   ]
  },
  {
   "cell_type": "code",
   "execution_count": 226,
   "metadata": {},
   "outputs": [],
   "source": [
    "# If you launch a cluster using AWS, here is the code to use to load the full dataset\n",
    "\n",
    "# event_data = \"s3n://udacity-dsnd/sparkify/sparkify_event_data.json\"\n",
    "# df = spark.read.json(event_data)"
   ]
  },
  {
   "cell_type": "code",
   "execution_count": 4,
   "metadata": {},
   "outputs": [],
   "source": [
    "# in case that there is some missing values appearing in the big dataset we supress the rows with missing values in userId \n",
    "# or sessionId columns that does not correspond to actions made by users\n",
    "df = df.dropna(subset=[\"userId\", \"sessionId\"], how=\"any\")"
   ]
  },
  {
   "cell_type": "code",
   "execution_count": 5,
   "metadata": {},
   "outputs": [],
   "source": [
    "# The userId \"\" does not seem to correspond to the activity of an actual user. \n",
    "# We decide to suppress all the rows corresponding to this userId.\n",
    "df = df.filter(df.userId != \"\")"
   ]
  },
  {
   "cell_type": "code",
   "execution_count": 6,
   "metadata": {},
   "outputs": [],
   "source": [
    "def convert_unix_epoch(df, col_name):\n",
    "    \"\"\"\n",
    "    Convert epoch timestamp to date.\n",
    "        Args:\n",
    "            df : spark dataframe (with column in unix epoch timestamps format)\n",
    "            col_name(str) : column name to convert\n",
    "        Output:\n",
    "            df : spark dataframe (with column in a date timestamp format)\n",
    "    \"\"\"\n",
    "    # convert unix epoch timestamps to second\n",
    "    df = df.withColumn(col_name, col(col_name)/1000)\n",
    "    # convert unix epoch timestamps into date timestamps\n",
    "    df = df.withColumn(col_name, col(col_name).cast(TimestampType()))\n",
    "    return df\n",
    "\n",
    "\n",
    "# we convert the unix epoch timestamps into date timestamps (\"ts\" and \"registration\" columns of the spark dataframe)\n",
    "df = convert_unix_epoch(df, \"ts\")\n",
    "df = convert_unix_epoch(df, \"registration\")"
   ]
  },
  {
   "cell_type": "markdown",
   "metadata": {},
   "source": [
    "# 2. Define the user dataframe with the features and the labels"
   ]
  },
  {
   "cell_type": "code",
   "execution_count": 7,
   "metadata": {},
   "outputs": [],
   "source": [
    "# Define Churn\n",
    "\n",
    "# flag event for churn\n",
    "flag_cancellation_event = udf(lambda x: 1 if x == \"Cancellation Confirmation\" else 0, IntegerType())\n",
    "df = df.withColumn(\"churn_event\", flag_cancellation_event(\"page\"))\n",
    "\n",
    "# labeling all the users actions who churned using an agregation with window function\n",
    "window_val = Window.partitionBy('userId')\n",
    "df = df.withColumn(\"churn\", Fsum(\"churn_event\").over(window_val))"
   ]
  },
  {
   "cell_type": "markdown",
   "metadata": {},
   "source": [
    "In the following blocs, we define dataframes with UserId in one column and the feature that we want to have in the other. <br> We then join the dataframes together to get the users dataframe containing the labels of the users and their features."
   ]
  },
  {
   "cell_type": "code",
   "execution_count": 8,
   "metadata": {},
   "outputs": [],
   "source": [
    "def get_feature_df(df, page_name):\n",
    "    \"\"\"\n",
    "    Get a dataframe with the userId in the first column and the count of the selected page_name for each user in the second \n",
    "    column.\n",
    "    \n",
    "        Args:\n",
    "            df: Dataframe containing events for sparklify\n",
    "            page_name (str): name of the page where we desire to have the number of count for each user\n",
    "        Outputs:\n",
    "            df_feature: dataframe with the userId in the first column and the value of the page_name for each user in the \n",
    "                        second column.\n",
    "    \"\"\"\n",
    "    column_name = \"n_\" + str.lower(page_name).replace(\" \", \"_\")\n",
    "    df_feature = df.filter(df.page==page_name).groupby(\"userId\").count().select(\"userId\", col(\"count\").alias(column_name))\n",
    "    return df_feature"
   ]
  },
  {
   "cell_type": "code",
   "execution_count": 9,
   "metadata": {},
   "outputs": [],
   "source": [
    "# pages counts dataframes\n",
    "n_nextsong = get_feature_df(df, \"NextSong\")\n",
    "n_home = get_feature_df(df, \"Home\")\n",
    "n_add_friends = get_feature_df(df, \"Add Friend\")\n",
    "n_roll_advert = get_feature_df(df, \"Roll Advert\")\n",
    "n_thumbs_down = get_feature_df(df, \"Thumbs Down\")\n",
    "n_about = get_feature_df(df, \"About\")\n",
    "n_error = get_feature_df(df, \"Error\")"
   ]
  },
  {
   "cell_type": "code",
   "execution_count": 10,
   "metadata": {},
   "outputs": [],
   "source": [
    "# churn is renamed label\n",
    "churn = df.select(\"userId\", \"churn\").groupby(\"userId\").max().select(\"userId\", col(\"max(churn)\").alias(\"label\"))"
   ]
  },
  {
   "cell_type": "code",
   "execution_count": 11,
   "metadata": {},
   "outputs": [],
   "source": [
    "# Gender values are transformed in integers (0 : women, 1 : men)\n",
    "gender_int = udf(lambda x: 1 if (x == \"M\") else 0, IntegerType())\n",
    "gender = df.withColumn(\"gender\", gender_int(\"gender\"))\\\n",
    "           .select(\"UserId\", \"gender\").distinct().groupby(\"userId\").sum()\\\n",
    "           .select(\"userId\", col(\"sum(gender)\").alias(\"gender\"))"
   ]
  },
  {
   "cell_type": "code",
   "execution_count": 12,
   "metadata": {},
   "outputs": [],
   "source": [
    "# Level values are transformed in integers (0 : free, 1 : paid)\n",
    "level_int = udf(lambda x: 1 if (x == \"paid\") else 0, IntegerType())\n",
    "level = df.withColumn(\"level\", level_int(\"level\"))\\\n",
    "           .select(\"UserId\", \"level\").distinct().groupby(\"userId\").sum()\\\n",
    "           .select(\"userId\", col(\"sum(level)\").alias(\"level\"))"
   ]
  },
  {
   "cell_type": "code",
   "execution_count": 13,
   "metadata": {},
   "outputs": [],
   "source": [
    "# Average days difference between 2 successive connections dataframe\n",
    "\n",
    "# remove the hours minute and second from the timestamps \"ts\"\n",
    "df = df.withColumn(\"date\", (concat(year(col(\"ts\")), lit(\"-\"), \n",
    "                                   month(col(\"ts\")), lit(\"-\"), \n",
    "                                   dayofmonth(col(\"ts\")))\\\n",
    "                            .cast(TimestampType())))\n",
    "# remove the duplicate\n",
    "df_date = df.select(\"userId\", \"date\").orderBy(\"date\").distinct()\n",
    "\n",
    "# calculation the mean difference between days of connection using a window function\n",
    "w = Window().partitionBy(\"userId\").orderBy(\"date\")\n",
    "df_date = df_date.withColumn(\"diff\", -datediff(lag(col(\"date\"), 1).over(w), \"date\"))\\\n",
    "    .groupBy(\"userId\")\\\n",
    "    .mean()\n",
    "\n",
    "# remname of the result column\n",
    "df_date = df_date.select(\"userId\", col(\"avg(diff)\").alias(\"avg_conn_diff\"))"
   ]
  },
  {
   "cell_type": "code",
   "execution_count": 14,
   "metadata": {},
   "outputs": [],
   "source": [
    "# number of sessions \n",
    "n_sessions = df.select(\"userId\", \"sessionId\").groupBy(\"userId\").agg(countDistinct(\"sessionId\"))\n",
    "n_sessions = n_sessions.select(\"userId\", col(\"count(DISTINCT sessionId)\").alias(\"n_sessions\"))"
   ]
  },
  {
   "cell_type": "code",
   "execution_count": 25,
   "metadata": {},
   "outputs": [],
   "source": [
    "# join of all the dataframes to create users_df\n",
    "users_df = n_nextsong.join(n_add_friends, on=\"userId\", how='outer')\\\n",
    "                    .join(n_roll_advert, on=\"userId\", how='outer')\\\n",
    "                    .join(n_about, on=\"userId\", how='outer')\\\n",
    "                    .join(n_error, on=\"userId\", how='outer')\\\n",
    "                    .join(n_thumbs_down, on=\"userId\", how='outer')\\\n",
    "                    .join(gender, on=\"userId\", how='outer')\\\n",
    "                    .join(level, on=\"userId\", how='outer')\\\n",
    "                    .join(n_sessions, on=\"userId\", how='outer')\\\n",
    "                    .join(df_date, on=\"userId\", how='outer')\\\n",
    "                    .join(churn, on=\"userId\", how='outer')\\"
   ]
  },
  {
   "cell_type": "code",
   "execution_count": 29,
   "metadata": {},
   "outputs": [],
   "source": [
    "# As the null values correspond to users that did not visit pages, we can replace the null values by zeros\n",
    "users_df = users_df.na.fill(0)"
   ]
  },
  {
   "cell_type": "code",
   "execution_count": 27,
   "metadata": {},
   "outputs": [],
   "source": [
    "# division of columns to optain the final features\n",
    "users_df = users_df.withColumn(\"r_nextsong_session\", col(\"n_nextsong\") / col(\"n_sessions\"))\n",
    "users_df = users_df.withColumn(\"r_roll_advert_session\", col(\"n_roll_advert\") / col(\"n_sessions\"))\n",
    "users_df = users_df.withColumn(\"r_about_session\", col(\"n_about\") / col(\"n_sessions\"))\n",
    "users_df = users_df.withColumn(\"r_error_session\", col(\"n_error\") / col(\"n_sessions\"))\n",
    "users_df = users_df.withColumn(\"r_thumbs_down_song\", col(\"n_thumbs_down\") / col(\"n_nextsong\"))\n",
    "users_df = users_df.withColumn(\"r_nextsong_session\", col(\"n_nextsong\") / col(\"n_sessions\"))"
   ]
  },
  {
   "cell_type": "code",
   "execution_count": 31,
   "metadata": {},
   "outputs": [],
   "source": [
    "# suppression of columns that are not needed anymore\n",
    "users_df = users_df.drop(\"n_nextsong\", \"n_roll_advert\", \"n_about\", \"n_error\", \"n_thumbs_down\", \"n_sessions\")"
   ]
  },
  {
   "cell_type": "code",
   "execution_count": 32,
   "metadata": {},
   "outputs": [
    {
     "name": "stdout",
     "output_type": "stream",
     "text": [
      "root\n",
      " |-- userId: string (nullable = true)\n",
      " |-- n_add_friend: long (nullable = true)\n",
      " |-- gender: long (nullable = true)\n",
      " |-- level: long (nullable = true)\n",
      " |-- avg_conn_diff: double (nullable = false)\n",
      " |-- label: long (nullable = true)\n",
      " |-- r_nextsong_session: double (nullable = false)\n",
      " |-- r_roll_advert_session: double (nullable = false)\n",
      " |-- r_about_session: double (nullable = false)\n",
      " |-- r_error_session: double (nullable = false)\n",
      " |-- r_thumbs_down_song: double (nullable = false)\n",
      "\n"
     ]
    }
   ],
   "source": [
    "# check of the remaining columns that correspond to features\n",
    "# (we kept the userId to identify the users)\n",
    "users_df.printSchema()"
   ]
  },
  {
   "cell_type": "markdown",
   "metadata": {},
   "source": [
    "# 3. Rescaling and assembling of features\n",
    "\n",
    "We rescale each feature compare to the other values obtain by all the users for this feature. <br>\n",
    "We then assemble the features of each user to a vector that will be used to create the machine learning pipelines for each model."
   ]
  },
  {
   "cell_type": "markdown",
   "metadata": {},
   "source": [
    "## Rescaling features"
   ]
  },
  {
   "cell_type": "code",
   "execution_count": 33,
   "metadata": {},
   "outputs": [
    {
     "name": "stdout",
     "output_type": "stream",
     "text": [
      "n_add_friend... in progress\n",
      "n_add_friend... done\n",
      "avg_conn_diff... in progress\n",
      "avg_conn_diff... done\n",
      "r_nextsong_session... in progress\n",
      "r_nextsong_session... done\n",
      "r_roll_advert_session... in progress\n",
      "r_roll_advert_session... done\n",
      "r_about_session... in progress\n",
      "r_about_session... done\n",
      "r_error_session... in progress\n",
      "r_error_session... done\n",
      "r_thumbs_down_song... in progress\n",
      "r_thumbs_down_song... done\n"
     ]
    }
   ],
   "source": [
    "features_list = [\"n_add_friend\", \"avg_conn_diff\",\"r_nextsong_session\", \"r_roll_advert_session\", \"r_about_session\",  \n",
    "                 \"r_error_session\", \"r_thumbs_down_song\",]\n",
    "\n",
    "# we rescale the non binary values of the features (all except gender and level)\n",
    "for feature in features_list:\n",
    "    print(feature +\"... in progress\")\n",
    "    vector_assembler = VectorAssembler(inputCols=[feature], outputCol=feature+\"_vector\")\n",
    "    min_max_scaler = MinMaxScaler(inputCol=feature+\"_vector\", outputCol=feature+\"_scaled\")\n",
    "    pipeline = Pipeline(stages=[vector_assembler, min_max_scaler])\n",
    "\n",
    "    # Fitting pipeline on dataframe\n",
    "    scale_features = pipeline.fit(users_df)\n",
    "    \n",
    "    # we do the transformation on the dataframe\n",
    "    users_df = scale_features.transform(users_df)\n",
    "    users_df = users_df.drop(feature, feature+\"_vector\")\n",
    "    print(feature +\"... done\")"
   ]
  },
  {
   "cell_type": "markdown",
   "metadata": {},
   "source": [
    "## Assembling"
   ]
  },
  {
   "cell_type": "markdown",
   "metadata": {},
   "source": [
    "We assemble the rescaled feature to a common vector that will be used to train the models."
   ]
  },
  {
   "cell_type": "code",
   "execution_count": 34,
   "metadata": {},
   "outputs": [],
   "source": [
    "# we add the binary features to the other rescaled features\n",
    "features_list = [name + \"_scaled\" for name in features_list] + [\"gender\", \"level\"]\n",
    "\n",
    "# we assemble the different features for each user in a vector\n",
    "features_assembler = VectorAssembler(inputCols=features_list, outputCol=\"features\")"
   ]
  },
  {
   "cell_type": "markdown",
   "metadata": {},
   "source": [
    "# 4. Training\n",
    "\n",
    "We split the dataframe in a train and test dataframe. <br>\n",
    "\n",
    "We then try fitting the train data with different models :\n",
    "- Logistic regression\n",
    "- Decision tree classifier\n",
    "- Random forest classifier\n",
    "- Gradient-boosted tree classifier\n",
    "\n",
    "We create a few functions to extract the hyperparameters used with gridSearch and the optained scores. <br>\n",
    "Other functions are used to extract the coefficient / importance of the features used for the fitting. :\n",
    "- get_parameters_name\n",
    "- get_parameters_values\n",
    "- get_df_model_eval\n",
    "- plot_features_importance_classification\n",
    "- plot_features_coeff"
   ]
  },
  {
   "cell_type": "code",
   "execution_count": 35,
   "metadata": {},
   "outputs": [],
   "source": [
    "# we create 4 estimator pipelines corresponding to the 4 classifiers model that we want to test\n",
    "\n",
    "lr = LogisticRegression(featuresCol=\"features\", labelCol=\"label\")\n",
    "pipeline_lr = Pipeline(stages=[features_assembler, lr])\n",
    "\n",
    "dt = DecisionTreeClassifier(labelCol=\"label\", featuresCol=\"features\")\n",
    "pipeline_dt = Pipeline(stages=[features_assembler, dt])\n",
    "\n",
    "rf = RandomForestClassifier(labelCol=\"label\", featuresCol=\"features\")\n",
    "pipeline_rf = Pipeline(stages=[features_assembler, rf])\n",
    "\n",
    "gbt = GBTClassifier(labelCol=\"label\", featuresCol=\"features\")\n",
    "pipeline_gbt = Pipeline(stages=[features_assembler, gbt])"
   ]
  },
  {
   "cell_type": "code",
   "execution_count": 36,
   "metadata": {},
   "outputs": [],
   "source": [
    "# Train test split\n",
    "train_df, test_df = users_df.randomSplit([0.8, 0.2], seed=42)"
   ]
  },
  {
   "cell_type": "code",
   "execution_count": 37,
   "metadata": {},
   "outputs": [],
   "source": [
    "# we define the number of folds to put in the crossvalidation models\n",
    "numFold_value = 5"
   ]
  },
  {
   "cell_type": "code",
   "execution_count": 38,
   "metadata": {},
   "outputs": [
    {
     "name": "stdout",
     "output_type": "stream",
     "text": [
      "+-----+-----+\n",
      "|label|count|\n",
      "+-----+-----+\n",
      "|    0|  173|\n",
      "|    1|   52|\n",
      "+-----+-----+\n",
      "\n"
     ]
    }
   ],
   "source": [
    "# we check the balance between the number of users that churned and those who don't in the dataset\n",
    "users_df.groupby(\"label\").count().show()"
   ]
  },
  {
   "cell_type": "code",
   "execution_count": 39,
   "metadata": {},
   "outputs": [
    {
     "data": {
      "text/plain": [
       "'f1'"
      ]
     },
     "execution_count": 39,
     "metadata": {},
     "output_type": "execute_result"
    }
   ],
   "source": [
    "# Due to this imbalance in the dataset, we choose to use f1 metric as evaluator\n",
    "# we create an evaluator and check if the metric used is indeed f1.\n",
    "my_evaluator = MulticlassClassificationEvaluator()\n",
    "my_evaluator.getMetricName()"
   ]
  },
  {
   "cell_type": "code",
   "execution_count": 204,
   "metadata": {},
   "outputs": [],
   "source": [
    "def get_parameters_name(paramGrid):\n",
    "    \"\"\"\n",
    "    Get the name of the hyperparameters tuned in the grid search from a paramGrid object.\n",
    "    \n",
    "        Args:\n",
    "            paramGrid: paramGrid defined in the crossvalidation of the model\n",
    "            \n",
    "        Outputs:\n",
    "            param_names (list): list of the names of the hyperparameters tuned.\n",
    "    \"\"\"\n",
    "    param_names = []\n",
    "    for n in paramGrid[0].keys() :\n",
    "        param_names.append((str(n).split(\"__\")[1]))\n",
    "    return param_names"
   ]
  },
  {
   "cell_type": "code",
   "execution_count": 205,
   "metadata": {},
   "outputs": [],
   "source": [
    "def get_parameters_values(paramGrid):\n",
    "    \"\"\"\n",
    "    Get the values of the hyperparameters tuned in the grid search.\n",
    "    \n",
    "        Args:\n",
    "            paramGrid: paramGrid defined in the crossvalidation of the model\n",
    "            \n",
    "        Outputs:\n",
    "            values_params (list): list of the values of the hyperparameters tuned.\n",
    "    \"\"\"\n",
    "    values_params = []\n",
    "    for n in range(len(paramGrid)):\n",
    "        values_params.append(list(paramGrid[n].values()))\n",
    "    return values_params"
   ]
  },
  {
   "cell_type": "code",
   "execution_count": 57,
   "metadata": {},
   "outputs": [],
   "source": [
    "def get_df_model_eval(cv_model, paramGrid):\n",
    "    \"\"\"\n",
    "    Get a dataframe with the name of the hyperparameters and their values and the corresponding score optain by crossvalidation.\n",
    "    \n",
    "        Args:\n",
    "            cv_model: crossvalidation model\n",
    "            paramGrid: paramGrid defined in the crossvalidation of the model\n",
    "            \n",
    "        Outputs:\n",
    "            model_eval_df: dataframe with the name of the hyperparameters and their values and the corresponding score optain \n",
    "                           by crossvalidation.\n",
    "    \"\"\"\n",
    "    model_eval_df = pd.DataFrame(get_parameters_values(paramGrid), columns = get_parameters_name(paramGrid)) \n",
    "    model_eval_df[\"score\"] = cv_model.avgMetrics\n",
    "    return model_eval_df"
   ]
  },
  {
   "cell_type": "code",
   "execution_count": 207,
   "metadata": {},
   "outputs": [],
   "source": [
    "def plot_features_importance_classification(cv_model, features_list):\n",
    "    \"\"\"\n",
    "    Plot the importance of features for classification model.\n",
    "    \n",
    "        Args :\n",
    "            cv_model : cross validation model\n",
    "            features_list : list of features used to fit the cross validation model\n",
    "            \n",
    "        Output:\n",
    "            None\n",
    "    \"\"\"\n",
    "    \n",
    "    features_importance_dict = cv_model.bestModel.stages[-1].featureImportances\n",
    "    features_importance_values = []\n",
    "    k = 0\n",
    "    x = range(len(features_list))\n",
    "    for n in x:\n",
    "        if n in features_importance_dict.indices:\n",
    "            features_importance_values.append(features_importance_dict.values[k])\n",
    "            k+=1\n",
    "        else:\n",
    "            features_importance_values.append(0)\n",
    "    \n",
    "    # plot\n",
    "    fig, ax = plt.subplots()\n",
    "    ax.barh(x, features_importance_values)\n",
    "    ax.set_yticks(x)\n",
    "    ax.set_yticklabels(features_list)\n",
    "    ax.set_title(\"Features importance\")\n",
    "    return"
   ]
  },
  {
   "cell_type": "code",
   "execution_count": 214,
   "metadata": {},
   "outputs": [],
   "source": [
    "def plot_features_coeff(cv_model, features_list):\n",
    "    \"\"\"\n",
    "    Plot the coefficient values of features for logistic regression model.\n",
    "    \n",
    "        Args :\n",
    "            cv_model : cross validation model\n",
    "            \n",
    "        Output:\n",
    "            None\n",
    "    \"\"\"\n",
    "    features_coeff = list(cv_model_lr .bestModel.stages[-1].coefficients)\n",
    "    x = range(len(features_list))\n",
    "    # plot\n",
    "    fig, ax = plt.subplots()\n",
    "    ax.barh(x, features_coeff)\n",
    "    ax.set_yticks(x)\n",
    "    ax.set_yticklabels(features_list)\n",
    "    ax.set_title(\"Features coefficients\")\n",
    "    return"
   ]
  },
  {
   "cell_type": "markdown",
   "metadata": {},
   "source": [
    "## Logistic regression"
   ]
  },
  {
   "cell_type": "code",
   "execution_count": 40,
   "metadata": {},
   "outputs": [],
   "source": [
    "paramGrid_lr = ParamGridBuilder() \\\n",
    "    .addGrid(lr.aggregationDepth, [2, 5, 10]) \\\n",
    "    .addGrid(lr.maxIter, [100, 200])\\\n",
    "    .addGrid(lr.regParam, [0.001, 0.005, 0.01])\\\n",
    "    .build()\n",
    "\n",
    "crossval_lr = CrossValidator(estimator=pipeline_lr,\n",
    "                             estimatorParamMaps=paramGrid_lr,\n",
    "                             evaluator=my_evaluator, \n",
    "                             numFolds=numFold_value)\n",
    "\n",
    "cv_model_lr = crossval_lr.fit(train_df)"
   ]
  },
  {
   "cell_type": "code",
   "execution_count": 58,
   "metadata": {},
   "outputs": [
    {
     "data": {
      "text/html": [
       "<div>\n",
       "<style scoped>\n",
       "    .dataframe tbody tr th:only-of-type {\n",
       "        vertical-align: middle;\n",
       "    }\n",
       "\n",
       "    .dataframe tbody tr th {\n",
       "        vertical-align: top;\n",
       "    }\n",
       "\n",
       "    .dataframe thead th {\n",
       "        text-align: right;\n",
       "    }\n",
       "</style>\n",
       "<table border=\"1\" class=\"dataframe\">\n",
       "  <thead>\n",
       "    <tr style=\"text-align: right;\">\n",
       "      <th></th>\n",
       "      <th>aggregationDepth</th>\n",
       "      <th>maxIter</th>\n",
       "      <th>regParam</th>\n",
       "      <th>score</th>\n",
       "    </tr>\n",
       "  </thead>\n",
       "  <tbody>\n",
       "    <tr>\n",
       "      <th>17</th>\n",
       "      <td>10</td>\n",
       "      <td>200</td>\n",
       "      <td>0.010</td>\n",
       "      <td>0.746443</td>\n",
       "    </tr>\n",
       "    <tr>\n",
       "      <th>2</th>\n",
       "      <td>2</td>\n",
       "      <td>100</td>\n",
       "      <td>0.010</td>\n",
       "      <td>0.746443</td>\n",
       "    </tr>\n",
       "    <tr>\n",
       "      <th>5</th>\n",
       "      <td>2</td>\n",
       "      <td>200</td>\n",
       "      <td>0.010</td>\n",
       "      <td>0.746443</td>\n",
       "    </tr>\n",
       "    <tr>\n",
       "      <th>8</th>\n",
       "      <td>5</td>\n",
       "      <td>100</td>\n",
       "      <td>0.010</td>\n",
       "      <td>0.746443</td>\n",
       "    </tr>\n",
       "    <tr>\n",
       "      <th>11</th>\n",
       "      <td>5</td>\n",
       "      <td>200</td>\n",
       "      <td>0.010</td>\n",
       "      <td>0.746443</td>\n",
       "    </tr>\n",
       "    <tr>\n",
       "      <th>14</th>\n",
       "      <td>10</td>\n",
       "      <td>100</td>\n",
       "      <td>0.010</td>\n",
       "      <td>0.746443</td>\n",
       "    </tr>\n",
       "    <tr>\n",
       "      <th>13</th>\n",
       "      <td>10</td>\n",
       "      <td>100</td>\n",
       "      <td>0.005</td>\n",
       "      <td>0.741321</td>\n",
       "    </tr>\n",
       "    <tr>\n",
       "      <th>16</th>\n",
       "      <td>10</td>\n",
       "      <td>200</td>\n",
       "      <td>0.005</td>\n",
       "      <td>0.741321</td>\n",
       "    </tr>\n",
       "    <tr>\n",
       "      <th>4</th>\n",
       "      <td>2</td>\n",
       "      <td>200</td>\n",
       "      <td>0.005</td>\n",
       "      <td>0.741321</td>\n",
       "    </tr>\n",
       "    <tr>\n",
       "      <th>7</th>\n",
       "      <td>5</td>\n",
       "      <td>100</td>\n",
       "      <td>0.005</td>\n",
       "      <td>0.741321</td>\n",
       "    </tr>\n",
       "    <tr>\n",
       "      <th>1</th>\n",
       "      <td>2</td>\n",
       "      <td>100</td>\n",
       "      <td>0.005</td>\n",
       "      <td>0.741321</td>\n",
       "    </tr>\n",
       "    <tr>\n",
       "      <th>10</th>\n",
       "      <td>5</td>\n",
       "      <td>200</td>\n",
       "      <td>0.005</td>\n",
       "      <td>0.741321</td>\n",
       "    </tr>\n",
       "    <tr>\n",
       "      <th>15</th>\n",
       "      <td>10</td>\n",
       "      <td>200</td>\n",
       "      <td>0.001</td>\n",
       "      <td>0.724857</td>\n",
       "    </tr>\n",
       "    <tr>\n",
       "      <th>0</th>\n",
       "      <td>2</td>\n",
       "      <td>100</td>\n",
       "      <td>0.001</td>\n",
       "      <td>0.724857</td>\n",
       "    </tr>\n",
       "    <tr>\n",
       "      <th>12</th>\n",
       "      <td>10</td>\n",
       "      <td>100</td>\n",
       "      <td>0.001</td>\n",
       "      <td>0.724857</td>\n",
       "    </tr>\n",
       "    <tr>\n",
       "      <th>6</th>\n",
       "      <td>5</td>\n",
       "      <td>100</td>\n",
       "      <td>0.001</td>\n",
       "      <td>0.724857</td>\n",
       "    </tr>\n",
       "    <tr>\n",
       "      <th>3</th>\n",
       "      <td>2</td>\n",
       "      <td>200</td>\n",
       "      <td>0.001</td>\n",
       "      <td>0.724857</td>\n",
       "    </tr>\n",
       "    <tr>\n",
       "      <th>9</th>\n",
       "      <td>5</td>\n",
       "      <td>200</td>\n",
       "      <td>0.001</td>\n",
       "      <td>0.724857</td>\n",
       "    </tr>\n",
       "  </tbody>\n",
       "</table>\n",
       "</div>"
      ],
      "text/plain": [
       "    aggregationDepth  maxIter  regParam     score\n",
       "17                10      200     0.010  0.746443\n",
       "2                  2      100     0.010  0.746443\n",
       "5                  2      200     0.010  0.746443\n",
       "8                  5      100     0.010  0.746443\n",
       "11                 5      200     0.010  0.746443\n",
       "14                10      100     0.010  0.746443\n",
       "13                10      100     0.005  0.741321\n",
       "16                10      200     0.005  0.741321\n",
       "4                  2      200     0.005  0.741321\n",
       "7                  5      100     0.005  0.741321\n",
       "1                  2      100     0.005  0.741321\n",
       "10                 5      200     0.005  0.741321\n",
       "15                10      200     0.001  0.724857\n",
       "0                  2      100     0.001  0.724857\n",
       "12                10      100     0.001  0.724857\n",
       "6                  5      100     0.001  0.724857\n",
       "3                  2      200     0.001  0.724857\n",
       "9                  5      200     0.001  0.724857"
      ]
     },
     "execution_count": 58,
     "metadata": {},
     "output_type": "execute_result"
    }
   ],
   "source": [
    "df_lr_model_eval = get_df_model_eval(cv_model_lr, paramGrid_lr)\n",
    "df_lr_model_eval.sort_values(\"score\", ascending=False)"
   ]
  },
  {
   "cell_type": "code",
   "execution_count": 209,
   "metadata": {},
   "outputs": [
    {
     "data": {
      "image/png": "[encoded data removed]",
      "text/plain": [
       "<Figure size 432x288 with 1 Axes>"
      ]
     },
     "metadata": {
      "needs_background": "light"
     },
     "output_type": "display_data"
    }
   ],
   "source": [
    "plot_features_coeff(cv_model_lr, features_list)"
   ]
  },
  {
   "cell_type": "markdown",
   "metadata": {},
   "source": [
    "## Decision tree classifier"
   ]
  },
  {
   "cell_type": "code",
   "execution_count": 41,
   "metadata": {},
   "outputs": [],
   "source": [
    "paramGrid_dt = ParamGridBuilder() \\\n",
    "    .addGrid(dt.maxDepth, [2, 5, 10]) \\\n",
    "    .addGrid(dt.impurity, [\"gini\", \"entropy\"]) \\\n",
    "    .build()\n",
    "\n",
    "crossval_dt = CrossValidator(estimator=pipeline_dt,\n",
    "                          estimatorParamMaps=paramGrid_dt,\n",
    "                          evaluator=my_evaluator,\n",
    "                          numFolds=numFold_value)\n",
    "\n",
    "cv_model_dt = crossval_dt.fit(train_df)"
   ]
  },
  {
   "cell_type": "code",
   "execution_count": 59,
   "metadata": {},
   "outputs": [
    {
     "data": {
      "text/html": [
       "<div>\n",
       "<style scoped>\n",
       "    .dataframe tbody tr th:only-of-type {\n",
       "        vertical-align: middle;\n",
       "    }\n",
       "\n",
       "    .dataframe tbody tr th {\n",
       "        vertical-align: top;\n",
       "    }\n",
       "\n",
       "    .dataframe thead th {\n",
       "        text-align: right;\n",
       "    }\n",
       "</style>\n",
       "<table border=\"1\" class=\"dataframe\">\n",
       "  <thead>\n",
       "    <tr style=\"text-align: right;\">\n",
       "      <th></th>\n",
       "      <th>maxDepth</th>\n",
       "      <th>impurity</th>\n",
       "      <th>score</th>\n",
       "    </tr>\n",
       "  </thead>\n",
       "  <tbody>\n",
       "    <tr>\n",
       "      <th>0</th>\n",
       "      <td>2</td>\n",
       "      <td>gini</td>\n",
       "      <td>0.736756</td>\n",
       "    </tr>\n",
       "    <tr>\n",
       "      <th>1</th>\n",
       "      <td>2</td>\n",
       "      <td>entropy</td>\n",
       "      <td>0.726257</td>\n",
       "    </tr>\n",
       "    <tr>\n",
       "      <th>3</th>\n",
       "      <td>5</td>\n",
       "      <td>entropy</td>\n",
       "      <td>0.725269</td>\n",
       "    </tr>\n",
       "    <tr>\n",
       "      <th>5</th>\n",
       "      <td>10</td>\n",
       "      <td>entropy</td>\n",
       "      <td>0.725051</td>\n",
       "    </tr>\n",
       "    <tr>\n",
       "      <th>2</th>\n",
       "      <td>5</td>\n",
       "      <td>gini</td>\n",
       "      <td>0.719693</td>\n",
       "    </tr>\n",
       "    <tr>\n",
       "      <th>4</th>\n",
       "      <td>10</td>\n",
       "      <td>gini</td>\n",
       "      <td>0.711085</td>\n",
       "    </tr>\n",
       "  </tbody>\n",
       "</table>\n",
       "</div>"
      ],
      "text/plain": [
       "   maxDepth impurity     score\n",
       "0         2     gini  0.736756\n",
       "1         2  entropy  0.726257\n",
       "3         5  entropy  0.725269\n",
       "5        10  entropy  0.725051\n",
       "2         5     gini  0.719693\n",
       "4        10     gini  0.711085"
      ]
     },
     "execution_count": 59,
     "metadata": {},
     "output_type": "execute_result"
    }
   ],
   "source": [
    "df_dt_model_eval = get_df_model_eval(cv_model_dt, paramGrid_dt)\n",
    "df_dt_model_eval.sort_values(\"score\", ascending=False)"
   ]
  },
  {
   "cell_type": "code",
   "execution_count": 211,
   "metadata": {},
   "outputs": [
    {
     "data": {
      "image/png": "[encoded data removed]",
      "text/plain": [
       "<Figure size 432x288 with 1 Axes>"
      ]
     },
     "metadata": {
      "needs_background": "light"
     },
     "output_type": "display_data"
    }
   ],
   "source": [
    "plot_features_importance_classification(cv_model_dt, features_list)"
   ]
  },
  {
   "cell_type": "markdown",
   "metadata": {},
   "source": [
    "## Random forest classifier"
   ]
  },
  {
   "cell_type": "code",
   "execution_count": 42,
   "metadata": {},
   "outputs": [],
   "source": [
    "paramGrid_rf = ParamGridBuilder() \\\n",
    "    .addGrid(rf.maxDepth, [5, 10, 15]) \\\n",
    "    .addGrid(rf.impurity, [\"gini\", \"entropy\"]) \\\n",
    "    .addGrid(rf.numTrees, [5, 10, 20]) \\\n",
    "    .build()\n",
    "\n",
    "crossval_rf = CrossValidator(estimator=pipeline_rf,\n",
    "                          estimatorParamMaps=paramGrid_rf,\n",
    "                          evaluator=my_evaluator,\n",
    "                          numFolds=numFold_value)\n",
    "\n",
    "cv_model_rf = crossval_rf.fit(train_df)"
   ]
  },
  {
   "cell_type": "code",
   "execution_count": 60,
   "metadata": {},
   "outputs": [
    {
     "data": {
      "text/html": [
       "<div>\n",
       "<style scoped>\n",
       "    .dataframe tbody tr th:only-of-type {\n",
       "        vertical-align: middle;\n",
       "    }\n",
       "\n",
       "    .dataframe tbody tr th {\n",
       "        vertical-align: top;\n",
       "    }\n",
       "\n",
       "    .dataframe thead th {\n",
       "        text-align: right;\n",
       "    }\n",
       "</style>\n",
       "<table border=\"1\" class=\"dataframe\">\n",
       "  <thead>\n",
       "    <tr style=\"text-align: right;\">\n",
       "      <th></th>\n",
       "      <th>maxDepth</th>\n",
       "      <th>impurity</th>\n",
       "      <th>numTrees</th>\n",
       "      <th>score</th>\n",
       "    </tr>\n",
       "  </thead>\n",
       "  <tbody>\n",
       "    <tr>\n",
       "      <th>1</th>\n",
       "      <td>5</td>\n",
       "      <td>gini</td>\n",
       "      <td>10</td>\n",
       "      <td>0.752862</td>\n",
       "    </tr>\n",
       "    <tr>\n",
       "      <th>9</th>\n",
       "      <td>10</td>\n",
       "      <td>entropy</td>\n",
       "      <td>5</td>\n",
       "      <td>0.738682</td>\n",
       "    </tr>\n",
       "    <tr>\n",
       "      <th>3</th>\n",
       "      <td>5</td>\n",
       "      <td>entropy</td>\n",
       "      <td>5</td>\n",
       "      <td>0.735084</td>\n",
       "    </tr>\n",
       "    <tr>\n",
       "      <th>17</th>\n",
       "      <td>15</td>\n",
       "      <td>entropy</td>\n",
       "      <td>20</td>\n",
       "      <td>0.733334</td>\n",
       "    </tr>\n",
       "    <tr>\n",
       "      <th>15</th>\n",
       "      <td>15</td>\n",
       "      <td>entropy</td>\n",
       "      <td>5</td>\n",
       "      <td>0.732245</td>\n",
       "    </tr>\n",
       "    <tr>\n",
       "      <th>6</th>\n",
       "      <td>10</td>\n",
       "      <td>gini</td>\n",
       "      <td>5</td>\n",
       "      <td>0.731996</td>\n",
       "    </tr>\n",
       "    <tr>\n",
       "      <th>0</th>\n",
       "      <td>5</td>\n",
       "      <td>gini</td>\n",
       "      <td>5</td>\n",
       "      <td>0.731841</td>\n",
       "    </tr>\n",
       "    <tr>\n",
       "      <th>11</th>\n",
       "      <td>10</td>\n",
       "      <td>entropy</td>\n",
       "      <td>20</td>\n",
       "      <td>0.729460</td>\n",
       "    </tr>\n",
       "    <tr>\n",
       "      <th>12</th>\n",
       "      <td>15</td>\n",
       "      <td>gini</td>\n",
       "      <td>5</td>\n",
       "      <td>0.727648</td>\n",
       "    </tr>\n",
       "    <tr>\n",
       "      <th>7</th>\n",
       "      <td>10</td>\n",
       "      <td>gini</td>\n",
       "      <td>10</td>\n",
       "      <td>0.723468</td>\n",
       "    </tr>\n",
       "    <tr>\n",
       "      <th>13</th>\n",
       "      <td>15</td>\n",
       "      <td>gini</td>\n",
       "      <td>10</td>\n",
       "      <td>0.723468</td>\n",
       "    </tr>\n",
       "    <tr>\n",
       "      <th>4</th>\n",
       "      <td>5</td>\n",
       "      <td>entropy</td>\n",
       "      <td>10</td>\n",
       "      <td>0.721482</td>\n",
       "    </tr>\n",
       "    <tr>\n",
       "      <th>8</th>\n",
       "      <td>10</td>\n",
       "      <td>gini</td>\n",
       "      <td>20</td>\n",
       "      <td>0.718777</td>\n",
       "    </tr>\n",
       "    <tr>\n",
       "      <th>14</th>\n",
       "      <td>15</td>\n",
       "      <td>gini</td>\n",
       "      <td>20</td>\n",
       "      <td>0.710724</td>\n",
       "    </tr>\n",
       "    <tr>\n",
       "      <th>16</th>\n",
       "      <td>15</td>\n",
       "      <td>entropy</td>\n",
       "      <td>10</td>\n",
       "      <td>0.700258</td>\n",
       "    </tr>\n",
       "    <tr>\n",
       "      <th>10</th>\n",
       "      <td>10</td>\n",
       "      <td>entropy</td>\n",
       "      <td>10</td>\n",
       "      <td>0.698212</td>\n",
       "    </tr>\n",
       "    <tr>\n",
       "      <th>5</th>\n",
       "      <td>5</td>\n",
       "      <td>entropy</td>\n",
       "      <td>20</td>\n",
       "      <td>0.695812</td>\n",
       "    </tr>\n",
       "    <tr>\n",
       "      <th>2</th>\n",
       "      <td>5</td>\n",
       "      <td>gini</td>\n",
       "      <td>20</td>\n",
       "      <td>0.674831</td>\n",
       "    </tr>\n",
       "  </tbody>\n",
       "</table>\n",
       "</div>"
      ],
      "text/plain": [
       "    maxDepth impurity  numTrees     score\n",
       "1          5     gini        10  0.752862\n",
       "9         10  entropy         5  0.738682\n",
       "3          5  entropy         5  0.735084\n",
       "17        15  entropy        20  0.733334\n",
       "15        15  entropy         5  0.732245\n",
       "6         10     gini         5  0.731996\n",
       "0          5     gini         5  0.731841\n",
       "11        10  entropy        20  0.729460\n",
       "12        15     gini         5  0.727648\n",
       "7         10     gini        10  0.723468\n",
       "13        15     gini        10  0.723468\n",
       "4          5  entropy        10  0.721482\n",
       "8         10     gini        20  0.718777\n",
       "14        15     gini        20  0.710724\n",
       "16        15  entropy        10  0.700258\n",
       "10        10  entropy        10  0.698212\n",
       "5          5  entropy        20  0.695812\n",
       "2          5     gini        20  0.674831"
      ]
     },
     "execution_count": 60,
     "metadata": {},
     "output_type": "execute_result"
    }
   ],
   "source": [
    "df_rf_model_eval = get_df_model_eval(cv_model_rf, paramGrid_rf)\n",
    "df_rf_model_eval.sort_values(\"score\", ascending=False)"
   ]
  },
  {
   "cell_type": "code",
   "execution_count": 212,
   "metadata": {},
   "outputs": [
    {
     "data": {
      "image/png": "[encoded data removed]",
      "text/plain": [
       "<Figure size 432x288 with 1 Axes>"
      ]
     },
     "metadata": {
      "needs_background": "light"
     },
     "output_type": "display_data"
    }
   ],
   "source": [
    "plot_features_importance_classification(cv_model_rf, features_list)"
   ]
  },
  {
   "cell_type": "markdown",
   "metadata": {},
   "source": [
    "## Gradient-boosted tree classifier"
   ]
  },
  {
   "cell_type": "code",
   "execution_count": 44,
   "metadata": {},
   "outputs": [],
   "source": [
    "paramGrid_gbt = ParamGridBuilder() \\\n",
    "    .addGrid(gbt.maxDepth, [2, 5, 10, 15]) \\\n",
    "    .addGrid(gbt.maxIter, [5, 10, 20]) \\\n",
    "    .build()\n",
    "\n",
    "crossval_gbt = CrossValidator(estimator=pipeline_gbt,\n",
    "                          estimatorParamMaps=paramGrid_gbt,\n",
    "                          evaluator=my_evaluator,\n",
    "                          numFolds=numFold_value)\n",
    "\n",
    "cv_model_gbt = crossval_gbt.fit(train_df)"
   ]
  },
  {
   "cell_type": "code",
   "execution_count": 61,
   "metadata": {},
   "outputs": [
    {
     "data": {
      "text/html": [
       "<div>\n",
       "<style scoped>\n",
       "    .dataframe tbody tr th:only-of-type {\n",
       "        vertical-align: middle;\n",
       "    }\n",
       "\n",
       "    .dataframe tbody tr th {\n",
       "        vertical-align: top;\n",
       "    }\n",
       "\n",
       "    .dataframe thead th {\n",
       "        text-align: right;\n",
       "    }\n",
       "</style>\n",
       "<table border=\"1\" class=\"dataframe\">\n",
       "  <thead>\n",
       "    <tr style=\"text-align: right;\">\n",
       "      <th></th>\n",
       "      <th>maxDepth</th>\n",
       "      <th>maxIter</th>\n",
       "      <th>score</th>\n",
       "    </tr>\n",
       "  </thead>\n",
       "  <tbody>\n",
       "    <tr>\n",
       "      <th>0</th>\n",
       "      <td>2</td>\n",
       "      <td>5</td>\n",
       "      <td>0.751575</td>\n",
       "    </tr>\n",
       "    <tr>\n",
       "      <th>2</th>\n",
       "      <td>2</td>\n",
       "      <td>20</td>\n",
       "      <td>0.736384</td>\n",
       "    </tr>\n",
       "    <tr>\n",
       "      <th>4</th>\n",
       "      <td>5</td>\n",
       "      <td>10</td>\n",
       "      <td>0.734716</td>\n",
       "    </tr>\n",
       "    <tr>\n",
       "      <th>5</th>\n",
       "      <td>5</td>\n",
       "      <td>20</td>\n",
       "      <td>0.734716</td>\n",
       "    </tr>\n",
       "    <tr>\n",
       "      <th>3</th>\n",
       "      <td>5</td>\n",
       "      <td>5</td>\n",
       "      <td>0.729507</td>\n",
       "    </tr>\n",
       "    <tr>\n",
       "      <th>1</th>\n",
       "      <td>2</td>\n",
       "      <td>10</td>\n",
       "      <td>0.719011</td>\n",
       "    </tr>\n",
       "    <tr>\n",
       "      <th>6</th>\n",
       "      <td>10</td>\n",
       "      <td>5</td>\n",
       "      <td>0.711085</td>\n",
       "    </tr>\n",
       "    <tr>\n",
       "      <th>7</th>\n",
       "      <td>10</td>\n",
       "      <td>10</td>\n",
       "      <td>0.711085</td>\n",
       "    </tr>\n",
       "    <tr>\n",
       "      <th>8</th>\n",
       "      <td>10</td>\n",
       "      <td>20</td>\n",
       "      <td>0.711085</td>\n",
       "    </tr>\n",
       "    <tr>\n",
       "      <th>9</th>\n",
       "      <td>15</td>\n",
       "      <td>5</td>\n",
       "      <td>0.711085</td>\n",
       "    </tr>\n",
       "    <tr>\n",
       "      <th>10</th>\n",
       "      <td>15</td>\n",
       "      <td>10</td>\n",
       "      <td>0.711085</td>\n",
       "    </tr>\n",
       "    <tr>\n",
       "      <th>11</th>\n",
       "      <td>15</td>\n",
       "      <td>20</td>\n",
       "      <td>0.711085</td>\n",
       "    </tr>\n",
       "  </tbody>\n",
       "</table>\n",
       "</div>"
      ],
      "text/plain": [
       "    maxDepth  maxIter     score\n",
       "0          2        5  0.751575\n",
       "2          2       20  0.736384\n",
       "4          5       10  0.734716\n",
       "5          5       20  0.734716\n",
       "3          5        5  0.729507\n",
       "1          2       10  0.719011\n",
       "6         10        5  0.711085\n",
       "7         10       10  0.711085\n",
       "8         10       20  0.711085\n",
       "9         15        5  0.711085\n",
       "10        15       10  0.711085\n",
       "11        15       20  0.711085"
      ]
     },
     "execution_count": 61,
     "metadata": {},
     "output_type": "execute_result"
    }
   ],
   "source": [
    "df_gbt_model_eval = get_df_model_eval(cv_model_gbt, paramGrid_gbt)\n",
    "df_gbt_model_eval.sort_values(\"score\", ascending=False)"
   ]
  },
  {
   "cell_type": "code",
   "execution_count": 213,
   "metadata": {},
   "outputs": [
    {
     "data": {
      "image/png": "[encoded data removed]",
      "text/plain": [
       "<Figure size 432x288 with 1 Axes>"
      ]
     },
     "metadata": {
      "needs_background": "light"
     },
     "output_type": "display_data"
    }
   ],
   "source": [
    "plot_features_importance_classification(cv_model_gbt, features_list)"
   ]
  },
  {
   "cell_type": "markdown",
   "metadata": {},
   "source": [
    "# 5. Evaluation"
   ]
  },
  {
   "cell_type": "markdown",
   "metadata": {},
   "source": [
    "We evaluate our models using the test dataset this time to see if the models perform well on data that hasn't been seen before.\n",
    "We create a function to extract the confusion matrix and different metrics to evaluate the performance of the model on new data."
   ]
  },
  {
   "cell_type": "code",
   "execution_count": 224,
   "metadata": {},
   "outputs": [],
   "source": [
    "def get_metrics_result(result_model, model_name):\n",
    "    \"\"\" \n",
    "    Get the confusion matrix from the result dataframe containing the labels and the predictions of a model.\n",
    "    \n",
    "        Args:\n",
    "            result_model: pandas dataframe containing a label column and a prediction column\n",
    "        Output:\n",
    "            confusion matrix: pandas dataframe containng the confusion matrix of the result of the model\n",
    "            evaluation_metrics :\n",
    "                accuracy : Ratio of correctly predicted observation to the total observations.\n",
    "                precision : Ratio of correctly predicted positive observations to the total predicted positive observations.\n",
    "                recall : Ratio of correctly predicted positive observations to the all observations in actual class - churn.\n",
    "                f1 : Weighted average of Precision and Recall.\n",
    "    \"\"\"\n",
    "    # calculation of true negatives (label=0, prediction=0),\n",
    "    #                true positives (label=1, prediction=1), \n",
    "    #                false_negative (label=1, prediction=0),\n",
    "    #                false_positive (label=0, prediction=1)\n",
    "    true_negative = result_model[(result_model[\"label\"]==0) & (result_model[\"prediction\"]==0)][\"label\"].count()\n",
    "    true_positive = result_model[(result_model[\"label\"]==1) & (result_model[\"prediction\"]==1)][\"label\"].count()\n",
    "    false_negative =  result_model[(result_model[\"label\"]==1) & (result_model[\"prediction\"]==0)][\"label\"].count()\n",
    "    false_positive =  result_model[(result_model[\"label\"]==0) & (result_model[\"prediction\"]==1)][\"label\"].count()\n",
    "    \n",
    "    # get the confusion matrix\n",
    "    confusion_matrix = pd.DataFrame([[true_negative, false_positive], [false_negative, true_positive]],  \n",
    "                                    columns = [\"no churn\", \"churn\"], index=[\"no churn\", \"churn\"]) \n",
    "    \n",
    "    # calculate accuracy, precision, recall and f1 metrics\n",
    "    accuracy = (true_positive + true_negative) / (true_positive + true_negative + false_negative + false_positive)\n",
    "    precision = true_positive / (true_positive + false_positive)\n",
    "    recall = true_positive / (true_positive + false_negative)\n",
    "    f1 = 2 * precision * recall / (precision + recall)\n",
    "    \n",
    "    evaluation_metrics = pd.DataFrame([[accuracy, precision, recall, f1]], \n",
    "                                      columns=[\"accuracy\", \"precision\", \"recall\", \"f1\"], index=[model_name])\n",
    "\n",
    "    return confusion_matrix, evaluation_metrics"
   ]
  },
  {
   "cell_type": "markdown",
   "metadata": {},
   "source": [
    " ## Logistic Rgeression"
   ]
  },
  {
   "cell_type": "code",
   "execution_count": 46,
   "metadata": {},
   "outputs": [],
   "source": [
    "test_lr = cv_model_lr.transform(test_df)\n",
    "test_lr = test_lr.select(\"label\", \"prediction\")\n",
    "predict_lr_pd = test_lr.toPandas()"
   ]
  },
  {
   "cell_type": "code",
   "execution_count": 225,
   "metadata": {},
   "outputs": [
    {
     "name": "stdout",
     "output_type": "stream",
     "text": [
      "          no churn  churn\n",
      "no churn        24      2\n",
      "churn            6      2\n",
      "                                accuracy  precision  recall        f1\n",
      "Logistic Regression Classifier  0.764706        0.5    0.25  0.333333\n"
     ]
    }
   ],
   "source": [
    "confusion_matrix_lr, evaluation_metrics_lr = get_metrics_result(predict_lr_pd, \"Logistic Regression Classifier\")\n",
    "print(confusion_matrix_lr)\n",
    "print(evaluation_metrics_lr)"
   ]
  },
  {
   "cell_type": "markdown",
   "metadata": {},
   "source": [
    "## Decision Tree Classifier"
   ]
  },
  {
   "cell_type": "code",
   "execution_count": 47,
   "metadata": {},
   "outputs": [],
   "source": [
    "test_dt = cv_model_dt.transform(test_df)\n",
    "test_dt = test_dt.select(\"label\", \"prediction\")\n",
    "predict_dt_pd = test_dt.toPandas()"
   ]
  },
  {
   "cell_type": "code",
   "execution_count": 219,
   "metadata": {},
   "outputs": [
    {
     "name": "stdout",
     "output_type": "stream",
     "text": [
      "          no churn  churn\n",
      "no churn        23      3\n",
      "churn            3      5\n",
      "                          accuracy  precision  recall     f1\n",
      "Decision Tree Classifier  0.823529      0.625   0.625  0.625\n"
     ]
    }
   ],
   "source": [
    "confusion_matrix_dt, evaluation_metrics_dt = get_metrics_result(predict_dt_pd, \"Decision Tree Classifier\")\n",
    "print(confusion_matrix_dt)\n",
    "print(evaluation_metrics_dt)"
   ]
  },
  {
   "cell_type": "markdown",
   "metadata": {},
   "source": [
    "## Random Forrest Classifier"
   ]
  },
  {
   "cell_type": "code",
   "execution_count": 48,
   "metadata": {},
   "outputs": [],
   "source": [
    "test_rf = cv_model_rf.transform(test_df)\n",
    "test_rf = test_rf.select(\"label\", \"prediction\")\n",
    "predict_rf_pd = test_rf.toPandas()"
   ]
  },
  {
   "cell_type": "code",
   "execution_count": 220,
   "metadata": {},
   "outputs": [
    {
     "name": "stdout",
     "output_type": "stream",
     "text": [
      "          no churn  churn\n",
      "no churn        26      0\n",
      "churn            7      1\n",
      "                          accuracy  precision  recall        f1\n",
      "Random Forest Classifier  0.794118        1.0   0.125  0.222222\n"
     ]
    }
   ],
   "source": [
    "confusion_matrix_rf, evaluation_metrics_rf = get_metrics_result(predict_rf_pd, \"Random Forest Classifier\")\n",
    "print(confusion_matrix_rf)\n",
    "print(evaluation_metrics_rf)"
   ]
  },
  {
   "cell_type": "markdown",
   "metadata": {},
   "source": [
    "## Gradient-boosted Tree Classifier"
   ]
  },
  {
   "cell_type": "code",
   "execution_count": 49,
   "metadata": {},
   "outputs": [],
   "source": [
    "test_gbt = cv_model_gbt.transform(test_df)\n",
    "test_gbt = test_gbt.select(\"label\", \"prediction\")\n",
    "predict_gbt_pd = test_gbt.toPandas()"
   ]
  },
  {
   "cell_type": "code",
   "execution_count": 221,
   "metadata": {},
   "outputs": [
    {
     "name": "stdout",
     "output_type": "stream",
     "text": [
      "          no churn  churn\n",
      "no churn        25      1\n",
      "churn            3      5\n",
      "                                  accuracy  precision  recall        f1\n",
      "Gradient-Boosted Tree Classifier  0.882353   0.833333   0.625  0.714286\n"
     ]
    }
   ],
   "source": [
    "confusion_matrix_gbt, evaluation_metrics_gbt = get_metrics_result(predict_gbt_pd, \"Gradient-Boosted Tree Classifier\")\n",
    "print(confusion_matrix_gbt)\n",
    "print(evaluation_metrics_gbt)"
   ]
  },
  {
   "cell_type": "markdown",
   "metadata": {},
   "source": [
    "# 6. Summary and conclusion"
   ]
  },
  {
   "cell_type": "code",
   "execution_count": 222,
   "metadata": {},
   "outputs": [],
   "source": [
    "summary_df = pd.concat([evaluation_metrics_lr, evaluation_metrics_dt, evaluation_metrics_rf, evaluation_metrics_gbt])"
   ]
  },
  {
   "cell_type": "code",
   "execution_count": 223,
   "metadata": {},
   "outputs": [
    {
     "data": {
      "text/html": [
       "<div>\n",
       "<style scoped>\n",
       "    .dataframe tbody tr th:only-of-type {\n",
       "        vertical-align: middle;\n",
       "    }\n",
       "\n",
       "    .dataframe tbody tr th {\n",
       "        vertical-align: top;\n",
       "    }\n",
       "\n",
       "    .dataframe thead th {\n",
       "        text-align: right;\n",
       "    }\n",
       "</style>\n",
       "<table border=\"1\" class=\"dataframe\">\n",
       "  <thead>\n",
       "    <tr style=\"text-align: right;\">\n",
       "      <th></th>\n",
       "      <th>accuracy</th>\n",
       "      <th>precision</th>\n",
       "      <th>recall</th>\n",
       "      <th>f1</th>\n",
       "    </tr>\n",
       "  </thead>\n",
       "  <tbody>\n",
       "    <tr>\n",
       "      <th>Gradient-Boosted Tree Classifier</th>\n",
       "      <td>0.882353</td>\n",
       "      <td>0.833333</td>\n",
       "      <td>0.625</td>\n",
       "      <td>0.714286</td>\n",
       "    </tr>\n",
       "    <tr>\n",
       "      <th>Decision Tree Classifier</th>\n",
       "      <td>0.823529</td>\n",
       "      <td>0.625000</td>\n",
       "      <td>0.625</td>\n",
       "      <td>0.625000</td>\n",
       "    </tr>\n",
       "    <tr>\n",
       "      <th>Logistic Regression Classifier</th>\n",
       "      <td>0.764706</td>\n",
       "      <td>0.500000</td>\n",
       "      <td>0.250</td>\n",
       "      <td>0.333333</td>\n",
       "    </tr>\n",
       "    <tr>\n",
       "      <th>Random Forest Classifier</th>\n",
       "      <td>0.794118</td>\n",
       "      <td>1.000000</td>\n",
       "      <td>0.125</td>\n",
       "      <td>0.222222</td>\n",
       "    </tr>\n",
       "  </tbody>\n",
       "</table>\n",
       "</div>"
      ],
      "text/plain": [
       "                                  accuracy  precision  recall        f1\n",
       "Gradient-Boosted Tree Classifier  0.882353   0.833333   0.625  0.714286\n",
       "Decision Tree Classifier          0.823529   0.625000   0.625  0.625000\n",
       "Logistic Regression Classifier    0.764706   0.500000   0.250  0.333333\n",
       "Random Forest Classifier          0.794118   1.000000   0.125  0.222222"
      ]
     },
     "execution_count": 223,
     "metadata": {},
     "output_type": "execute_result"
    }
   ],
   "source": [
    "summary_df.sort_values(\"f1\", ascending=False)"
   ]
  }
 ],
 "metadata": {
  "kernelspec": {
   "display_name": "Python 3",
   "language": "python",
   "name": "python3"
  },
  "language_info": {
   "codemirror_mode": {
    "name": "ipython",
    "version": 3
   },
   "file_extension": ".py",
   "mimetype": "text/x-python",
   "name": "python",
   "nbconvert_exporter": "python",
   "pygments_lexer": "ipython3",
   "version": "3.7.3"
  }
 },
 "nbformat": 4,
 "nbformat_minor": 4
}
