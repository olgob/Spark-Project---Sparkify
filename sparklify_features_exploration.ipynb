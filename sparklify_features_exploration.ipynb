{
 "cells": [
  {
   "cell_type": "markdown",
   "metadata": {},
   "source": [
    "# Sparkify Project - Features exploration on a small dataset\n",
    "\n",
    "This workspace contains the code that allows us to explore the data and determine which feature is meaningfull to distinguish users that churns. <br>\n",
    "We work on a small subset of the data. We do not need to do this study on a cluster. That is why pandas is prefered to spark in this notebook. <br>"
   ]
  },
  {
   "cell_type": "code",
   "execution_count": 1,
   "metadata": {},
   "outputs": [],
   "source": [
    "# import libraries\n",
    "import numpy as np\n",
    "import pandas as pd\n",
    "import datetime\n",
    "import matplotlib.pyplot as plt\n",
    "\n",
    "%matplotlib inline"
   ]
  },
  {
   "cell_type": "markdown",
   "metadata": {},
   "source": [
    "# 1. Load Dataset"
   ]
  },
  {
   "cell_type": "code",
   "execution_count": 2,
   "metadata": {},
   "outputs": [],
   "source": [
    "# Load data\n",
    "path = \"mini_sparkify_event_data.json\"\n",
    "df = pd.read_json(path, lines=True)"
   ]
  },
  {
   "cell_type": "code",
   "execution_count": 3,
   "metadata": {},
   "outputs": [
    {
     "data": {
      "text/html": [
       "<div>\n",
       "<style scoped>\n",
       "    .dataframe tbody tr th:only-of-type {\n",
       "        vertical-align: middle;\n",
       "    }\n",
       "\n",
       "    .dataframe tbody tr th {\n",
       "        vertical-align: top;\n",
       "    }\n",
       "\n",
       "    .dataframe thead th {\n",
       "        text-align: right;\n",
       "    }\n",
       "</style>\n",
       "<table border=\"1\" class=\"dataframe\">\n",
       "  <thead>\n",
       "    <tr style=\"text-align: right;\">\n",
       "      <th></th>\n",
       "      <th>ts</th>\n",
       "      <th>userId</th>\n",
       "      <th>sessionId</th>\n",
       "      <th>page</th>\n",
       "      <th>auth</th>\n",
       "      <th>method</th>\n",
       "      <th>status</th>\n",
       "      <th>level</th>\n",
       "      <th>itemInSession</th>\n",
       "      <th>location</th>\n",
       "      <th>userAgent</th>\n",
       "      <th>lastName</th>\n",
       "      <th>firstName</th>\n",
       "      <th>registration</th>\n",
       "      <th>gender</th>\n",
       "      <th>artist</th>\n",
       "      <th>song</th>\n",
       "      <th>length</th>\n",
       "    </tr>\n",
       "  </thead>\n",
       "  <tbody>\n",
       "    <tr>\n",
       "      <th>0</th>\n",
       "      <td>1538352117000</td>\n",
       "      <td>30</td>\n",
       "      <td>29</td>\n",
       "      <td>NextSong</td>\n",
       "      <td>Logged In</td>\n",
       "      <td>PUT</td>\n",
       "      <td>200</td>\n",
       "      <td>paid</td>\n",
       "      <td>50</td>\n",
       "      <td>Bakersfield, CA</td>\n",
       "      <td>Mozilla/5.0 (Windows NT 6.1; WOW64; rv:31.0) G...</td>\n",
       "      <td>Freeman</td>\n",
       "      <td>Colin</td>\n",
       "      <td>1.538173e+12</td>\n",
       "      <td>M</td>\n",
       "      <td>Martha Tilston</td>\n",
       "      <td>Rockpools</td>\n",
       "      <td>277.89016</td>\n",
       "    </tr>\n",
       "    <tr>\n",
       "      <th>1</th>\n",
       "      <td>1538352180000</td>\n",
       "      <td>9</td>\n",
       "      <td>8</td>\n",
       "      <td>NextSong</td>\n",
       "      <td>Logged In</td>\n",
       "      <td>PUT</td>\n",
       "      <td>200</td>\n",
       "      <td>free</td>\n",
       "      <td>79</td>\n",
       "      <td>Boston-Cambridge-Newton, MA-NH</td>\n",
       "      <td>\"Mozilla/5.0 (Windows NT 6.1; WOW64) AppleWebK...</td>\n",
       "      <td>Long</td>\n",
       "      <td>Micah</td>\n",
       "      <td>1.538332e+12</td>\n",
       "      <td>M</td>\n",
       "      <td>Five Iron Frenzy</td>\n",
       "      <td>Canada</td>\n",
       "      <td>236.09424</td>\n",
       "    </tr>\n",
       "    <tr>\n",
       "      <th>2</th>\n",
       "      <td>1538352394000</td>\n",
       "      <td>30</td>\n",
       "      <td>29</td>\n",
       "      <td>NextSong</td>\n",
       "      <td>Logged In</td>\n",
       "      <td>PUT</td>\n",
       "      <td>200</td>\n",
       "      <td>paid</td>\n",
       "      <td>51</td>\n",
       "      <td>Bakersfield, CA</td>\n",
       "      <td>Mozilla/5.0 (Windows NT 6.1; WOW64; rv:31.0) G...</td>\n",
       "      <td>Freeman</td>\n",
       "      <td>Colin</td>\n",
       "      <td>1.538173e+12</td>\n",
       "      <td>M</td>\n",
       "      <td>Adam Lambert</td>\n",
       "      <td>Time For Miracles</td>\n",
       "      <td>282.82730</td>\n",
       "    </tr>\n",
       "    <tr>\n",
       "      <th>3</th>\n",
       "      <td>1538352416000</td>\n",
       "      <td>9</td>\n",
       "      <td>8</td>\n",
       "      <td>NextSong</td>\n",
       "      <td>Logged In</td>\n",
       "      <td>PUT</td>\n",
       "      <td>200</td>\n",
       "      <td>free</td>\n",
       "      <td>80</td>\n",
       "      <td>Boston-Cambridge-Newton, MA-NH</td>\n",
       "      <td>\"Mozilla/5.0 (Windows NT 6.1; WOW64) AppleWebK...</td>\n",
       "      <td>Long</td>\n",
       "      <td>Micah</td>\n",
       "      <td>1.538332e+12</td>\n",
       "      <td>M</td>\n",
       "      <td>Enigma</td>\n",
       "      <td>Knocking On Forbidden Doors</td>\n",
       "      <td>262.71302</td>\n",
       "    </tr>\n",
       "    <tr>\n",
       "      <th>4</th>\n",
       "      <td>1538352676000</td>\n",
       "      <td>30</td>\n",
       "      <td>29</td>\n",
       "      <td>NextSong</td>\n",
       "      <td>Logged In</td>\n",
       "      <td>PUT</td>\n",
       "      <td>200</td>\n",
       "      <td>paid</td>\n",
       "      <td>52</td>\n",
       "      <td>Bakersfield, CA</td>\n",
       "      <td>Mozilla/5.0 (Windows NT 6.1; WOW64; rv:31.0) G...</td>\n",
       "      <td>Freeman</td>\n",
       "      <td>Colin</td>\n",
       "      <td>1.538173e+12</td>\n",
       "      <td>M</td>\n",
       "      <td>Daft Punk</td>\n",
       "      <td>Harder Better Faster Stronger</td>\n",
       "      <td>223.60771</td>\n",
       "    </tr>\n",
       "  </tbody>\n",
       "</table>\n",
       "</div>"
      ],
      "text/plain": [
       "              ts userId  sessionId      page       auth method  status level  \\\n",
       "0  1538352117000     30         29  NextSong  Logged In    PUT     200  paid   \n",
       "1  1538352180000      9          8  NextSong  Logged In    PUT     200  free   \n",
       "2  1538352394000     30         29  NextSong  Logged In    PUT     200  paid   \n",
       "3  1538352416000      9          8  NextSong  Logged In    PUT     200  free   \n",
       "4  1538352676000     30         29  NextSong  Logged In    PUT     200  paid   \n",
       "\n",
       "   itemInSession                        location  \\\n",
       "0             50                 Bakersfield, CA   \n",
       "1             79  Boston-Cambridge-Newton, MA-NH   \n",
       "2             51                 Bakersfield, CA   \n",
       "3             80  Boston-Cambridge-Newton, MA-NH   \n",
       "4             52                 Bakersfield, CA   \n",
       "\n",
       "                                           userAgent lastName firstName  \\\n",
       "0  Mozilla/5.0 (Windows NT 6.1; WOW64; rv:31.0) G...  Freeman     Colin   \n",
       "1  \"Mozilla/5.0 (Windows NT 6.1; WOW64) AppleWebK...     Long     Micah   \n",
       "2  Mozilla/5.0 (Windows NT 6.1; WOW64; rv:31.0) G...  Freeman     Colin   \n",
       "3  \"Mozilla/5.0 (Windows NT 6.1; WOW64) AppleWebK...     Long     Micah   \n",
       "4  Mozilla/5.0 (Windows NT 6.1; WOW64; rv:31.0) G...  Freeman     Colin   \n",
       "\n",
       "   registration gender            artist                           song  \\\n",
       "0  1.538173e+12      M    Martha Tilston                      Rockpools   \n",
       "1  1.538332e+12      M  Five Iron Frenzy                         Canada   \n",
       "2  1.538173e+12      M      Adam Lambert              Time For Miracles   \n",
       "3  1.538332e+12      M            Enigma    Knocking On Forbidden Doors   \n",
       "4  1.538173e+12      M         Daft Punk  Harder Better Faster Stronger   \n",
       "\n",
       "      length  \n",
       "0  277.89016  \n",
       "1  236.09424  \n",
       "2  282.82730  \n",
       "3  262.71302  \n",
       "4  223.60771  "
      ]
     },
     "execution_count": 3,
     "metadata": {},
     "output_type": "execute_result"
    }
   ],
   "source": [
    "df.head()"
   ]
  },
  {
   "cell_type": "code",
   "execution_count": 4,
   "metadata": {},
   "outputs": [
    {
     "data": {
      "text/plain": [
       "Index(['ts', 'userId', 'sessionId', 'page', 'auth', 'method', 'status',\n",
       "       'level', 'itemInSession', 'location', 'userAgent', 'lastName',\n",
       "       'firstName', 'registration', 'gender', 'artist', 'song', 'length'],\n",
       "      dtype='object')"
      ]
     },
     "execution_count": 4,
     "metadata": {},
     "output_type": "execute_result"
    }
   ],
   "source": [
    "# get the columns name\n",
    "df.columns"
   ]
  },
  {
   "cell_type": "markdown",
   "metadata": {},
   "source": [
    "The dataset contain the following columns :\n",
    "- artist : the name of the artist of the song played (if any)\n",
    "- auth : authentication of the user\n",
    "- firstName : First name of the user\n",
    "- gender : The gender of the user\n",
    "- itemInsession : number of interaction of the user during the current session\n",
    "- lastName : Last name of the user\n",
    "- length : Duration of the song played(if any)\n",
    "- level : Subscription level of the user (paid or free)\n",
    "- location : location of the user\n",
    "- method : request type (PUT or GET)\n",
    "- page : Interaction type of the user\n",
    "- registration : Timestamp of the registration the user\n",
    "- sessionId : ID of the current session of the user\n",
    "- song : Name of the song played by the user (if any)\n",
    "- status : Status code (307, 404, or 200)\n",
    "- ts : Timestamp of the event\n",
    "- userAgent : Environment system information of the user\n",
    "- userId : Identification number of the user"
   ]
  },
  {
   "cell_type": "markdown",
   "metadata": {},
   "source": [
    "# 2. Data Cleaning"
   ]
  },
  {
   "cell_type": "code",
   "execution_count": 5,
   "metadata": {},
   "outputs": [
    {
     "data": {
      "text/plain": [
       "ts               0\n",
       "userId           0\n",
       "sessionId        0\n",
       "page             0\n",
       "auth             0\n",
       "method           0\n",
       "status           0\n",
       "level            0\n",
       "itemInSession    0\n",
       "location         0\n",
       "userAgent        0\n",
       "lastName         0\n",
       "firstName        0\n",
       "registration     0\n",
       "gender           0\n",
       "artist           0\n",
       "song             0\n",
       "length           0\n",
       "dtype: int64"
      ]
     },
     "execution_count": 5,
     "metadata": {},
     "output_type": "execute_result"
    }
   ],
   "source": [
    "# missing values in the dataset\n",
    "df[df.isnull()==True].count()"
   ]
  },
  {
   "cell_type": "markdown",
   "metadata": {},
   "source": [
    "There is no missing values in the dataset"
   ]
  },
  {
   "cell_type": "code",
   "execution_count": 6,
   "metadata": {},
   "outputs": [
    {
     "name": "stdout",
     "output_type": "stream",
     "text": [
      "users IDs ['' '10' '100' '100001' '100002' '100003' '100004' '100005' '100006'\n",
      " '100007' '100008' '100009' '100010' '100011' '100012' '100013' '100014'\n",
      " '100015' '100016' '100017' '100018' '100019' '100021' '100022' '100023'\n",
      " '100024' '100025' '101' '102' '103' '104' '105' '106' '107' '108' '109'\n",
      " '11' '110' '111' '112' '113' '114' '115' '116' '117' '118' '119' '12'\n",
      " '120' '121' '122' '123' '124' '125' '126' '127' '128' '129' '13' '131'\n",
      " '132' '133' '134' '135' '136' '137' '138' '139' '14' '140' '141' '142'\n",
      " '143' '144' '145' '146' '147' '148' '149' '15' '150' '151' '152' '153'\n",
      " '154' '155' '156' '16' '17' '18' '19' '2' '20' '200001' '200002' '200003'\n",
      " '200004' '200005' '200006' '200007' '200008' '200009' '200010' '200011'\n",
      " '200012' '200014' '200015' '200016' '200017' '200018' '200019' '200020'\n",
      " '200021' '200022' '200023' '200024' '200025' '21' '22' '23' '24' '25'\n",
      " '26' '27' '28' '29' '3' '30' '300001' '300002' '300003' '300004' '300005'\n",
      " '300006' '300007' '300008' '300009' '300010' '300011' '300012' '300013'\n",
      " '300014' '300015' '300016' '300017' '300018' '300019' '300020' '300021'\n",
      " '300022' '300023' '300024' '300025' '32' '33' '34' '35' '36' '37' '38'\n",
      " '39' '4' '40' '41' '42' '43' '44' '45' '46' '47' '49' '5' '50' '51' '52'\n",
      " '53' '54' '55' '56' '57' '58' '59' '6' '60' '61' '62' '63' '64' '65' '66'\n",
      " '67' '68' '69' '7' '70' '71' '72' '73' '74' '75' '76' '77' '78' '79' '8'\n",
      " '80' '81' '82' '83' '84' '85' '86' '87' '88' '89' '9' '90' '91' '92' '93'\n",
      " '94' '95' '96' '97' '98' '99']\n",
      "\n",
      "Interaction of the empty user Id  ['Home' 'Help' 'Login' 'About' 'Error' 'Register' 'Submit Registration']\n",
      "\n",
      "name of the empty user Id [nan] [nan]\n",
      "\n"
     ]
    }
   ],
   "source": [
    "# Cleaning of the userId column\n",
    "\n",
    "# Check the userIds\n",
    "print(\"users IDs\", np.sort(df[\"userId\"].unique()))\n",
    "print(\"\")\n",
    "\n",
    "# interaction of the '' user with the application\n",
    "print(\"Interaction of the empty user Id \", df[df[\"userId\"]==\"\"][\"page\"].unique())\n",
    "print(\"\")\n",
    "# name of the user \"\"\n",
    "print(\"name of the empty user Id\", df[df[\"userId\"]==\"\"][\"firstName\"].unique(), df[df[\"userId\"]==\"\"][\"lastName\"].unique())\n",
    "print(\"\")\n",
    "\n",
    "# This userId does not seem to correspond to the activity of an actual user. \n",
    "# We decide to suppress all the rows corresponding to this userId.\n",
    "df = df[df[\"userId\"] != \"\"]"
   ]
  },
  {
   "cell_type": "code",
   "execution_count": 7,
   "metadata": {},
   "outputs": [],
   "source": [
    "# we transform the unix epoch timestamps corresponding to event and registration into human readable date\n",
    "df['ts'] = pd.to_datetime(df['ts']*1000000)\n",
    "df['registration'] = pd.to_datetime(df['registration']*1000000)"
   ]
  },
  {
   "cell_type": "markdown",
   "metadata": {},
   "source": [
    "# 3. Data exploration"
   ]
  },
  {
   "cell_type": "code",
   "execution_count": 8,
   "metadata": {},
   "outputs": [
    {
     "data": {
      "text/plain": [
       "(278154, 18)"
      ]
     },
     "execution_count": 8,
     "metadata": {},
     "output_type": "execute_result"
    }
   ],
   "source": [
    "# number of rows in the dataframe\n",
    "df.shape"
   ]
  },
  {
   "cell_type": "code",
   "execution_count": 9,
   "metadata": {},
   "outputs": [
    {
     "data": {
      "text/plain": [
       "225"
      ]
     },
     "execution_count": 9,
     "metadata": {},
     "output_type": "execute_result"
    }
   ],
   "source": [
    "# number of distinct IDs in the dataframe\n",
    "len(df[\"userId\"].unique())"
   ]
  },
  {
   "cell_type": "code",
   "execution_count": 10,
   "metadata": {},
   "outputs": [
    {
     "data": {
      "text/plain": [
       "(numpy.datetime64('2018-10-01T00:01:57.000000000'),\n",
       " numpy.datetime64('2018-12-03T01:11:16.000000000'))"
      ]
     },
     "execution_count": 10,
     "metadata": {},
     "output_type": "execute_result"
    }
   ],
   "source": [
    "# data timestamps\n",
    "df[\"ts\"].unique().min(), df[\"ts\"].unique().max()"
   ]
  },
  {
   "cell_type": "code",
   "execution_count": 11,
   "metadata": {},
   "outputs": [
    {
     "name": "stdout",
     "output_type": "stream",
     "text": [
      "There are 58481 songs registered.\n"
     ]
    }
   ],
   "source": [
    "# number of songs in the database\n",
    "n_songs = len(df[\"song\"].unique())\n",
    "print(\"There are {} songs registered.\".format(n_songs))"
   ]
  },
  {
   "cell_type": "markdown",
   "metadata": {},
   "source": [
    "All the pages consulted by users can be seen in the \"page\" column. It is important to have a look at this column in order to get a better idea of the interaction between users and the application."
   ]
  },
  {
   "cell_type": "code",
   "execution_count": 12,
   "metadata": {},
   "outputs": [
    {
     "data": {
      "text/html": [
       "<div>\n",
       "<style scoped>\n",
       "    .dataframe tbody tr th:only-of-type {\n",
       "        vertical-align: middle;\n",
       "    }\n",
       "\n",
       "    .dataframe tbody tr th {\n",
       "        vertical-align: top;\n",
       "    }\n",
       "\n",
       "    .dataframe thead th {\n",
       "        text-align: right;\n",
       "    }\n",
       "</style>\n",
       "<table border=\"1\" class=\"dataframe\">\n",
       "  <thead>\n",
       "    <tr style=\"text-align: right;\">\n",
       "      <th></th>\n",
       "      <th>count</th>\n",
       "    </tr>\n",
       "    <tr>\n",
       "      <th>page</th>\n",
       "      <th></th>\n",
       "    </tr>\n",
       "  </thead>\n",
       "  <tbody>\n",
       "    <tr>\n",
       "      <th>NextSong</th>\n",
       "      <td>228108</td>\n",
       "    </tr>\n",
       "    <tr>\n",
       "      <th>Thumbs Up</th>\n",
       "      <td>12551</td>\n",
       "    </tr>\n",
       "    <tr>\n",
       "      <th>Home</th>\n",
       "      <td>10082</td>\n",
       "    </tr>\n",
       "    <tr>\n",
       "      <th>Add to Playlist</th>\n",
       "      <td>6526</td>\n",
       "    </tr>\n",
       "    <tr>\n",
       "      <th>Add Friend</th>\n",
       "      <td>4277</td>\n",
       "    </tr>\n",
       "    <tr>\n",
       "      <th>Roll Advert</th>\n",
       "      <td>3933</td>\n",
       "    </tr>\n",
       "    <tr>\n",
       "      <th>Logout</th>\n",
       "      <td>3226</td>\n",
       "    </tr>\n",
       "    <tr>\n",
       "      <th>Thumbs Down</th>\n",
       "      <td>2546</td>\n",
       "    </tr>\n",
       "    <tr>\n",
       "      <th>Downgrade</th>\n",
       "      <td>2055</td>\n",
       "    </tr>\n",
       "    <tr>\n",
       "      <th>Settings</th>\n",
       "      <td>1514</td>\n",
       "    </tr>\n",
       "    <tr>\n",
       "      <th>Help</th>\n",
       "      <td>1454</td>\n",
       "    </tr>\n",
       "    <tr>\n",
       "      <th>Upgrade</th>\n",
       "      <td>499</td>\n",
       "    </tr>\n",
       "    <tr>\n",
       "      <th>About</th>\n",
       "      <td>495</td>\n",
       "    </tr>\n",
       "    <tr>\n",
       "      <th>Save Settings</th>\n",
       "      <td>310</td>\n",
       "    </tr>\n",
       "    <tr>\n",
       "      <th>Error</th>\n",
       "      <td>252</td>\n",
       "    </tr>\n",
       "    <tr>\n",
       "      <th>Submit Upgrade</th>\n",
       "      <td>159</td>\n",
       "    </tr>\n",
       "    <tr>\n",
       "      <th>Submit Downgrade</th>\n",
       "      <td>63</td>\n",
       "    </tr>\n",
       "    <tr>\n",
       "      <th>Cancellation Confirmation</th>\n",
       "      <td>52</td>\n",
       "    </tr>\n",
       "    <tr>\n",
       "      <th>Cancel</th>\n",
       "      <td>52</td>\n",
       "    </tr>\n",
       "  </tbody>\n",
       "</table>\n",
       "</div>"
      ],
      "text/plain": [
       "                            count\n",
       "page                             \n",
       "NextSong                   228108\n",
       "Thumbs Up                   12551\n",
       "Home                        10082\n",
       "Add to Playlist              6526\n",
       "Add Friend                   4277\n",
       "Roll Advert                  3933\n",
       "Logout                       3226\n",
       "Thumbs Down                  2546\n",
       "Downgrade                    2055\n",
       "Settings                     1514\n",
       "Help                         1454\n",
       "Upgrade                       499\n",
       "About                         495\n",
       "Save Settings                 310\n",
       "Error                         252\n",
       "Submit Upgrade                159\n",
       "Submit Downgrade               63\n",
       "Cancellation Confirmation      52\n",
       "Cancel                         52"
      ]
     },
     "execution_count": 12,
     "metadata": {},
     "output_type": "execute_result"
    }
   ],
   "source": [
    "# pages name consulted by users and counts\n",
    "df_page = df[[\"page\", \"userId\"]].groupby(\"page\").count().sort_values(by=\"userId\", ascending=False)\n",
    "df_page.columns = [\"count\"]\n",
    "df_page"
   ]
  },
  {
   "cell_type": "markdown",
   "metadata": {},
   "source": [
    "The pages the most consulted by users is nextSong which make sense for an application dedicated to music steaming. We notice that the less consulted page by users is \"Cancellation Confirmation\" which correspond to a churn event. <br> We can split the pages on 3 categories : \n",
    "- related to music\n",
    "- related to user subscription\n",
    "- other"
   ]
  },
  {
   "cell_type": "code",
   "execution_count": 13,
   "metadata": {},
   "outputs": [
    {
     "data": {
      "text/html": [
       "<div>\n",
       "<style scoped>\n",
       "    .dataframe tbody tr th:only-of-type {\n",
       "        vertical-align: middle;\n",
       "    }\n",
       "\n",
       "    .dataframe tbody tr th {\n",
       "        vertical-align: top;\n",
       "    }\n",
       "\n",
       "    .dataframe thead th {\n",
       "        text-align: right;\n",
       "    }\n",
       "</style>\n",
       "<table border=\"1\" class=\"dataframe\">\n",
       "  <thead>\n",
       "    <tr style=\"text-align: right;\">\n",
       "      <th></th>\n",
       "      <th>count</th>\n",
       "    </tr>\n",
       "    <tr>\n",
       "      <th>page</th>\n",
       "      <th></th>\n",
       "    </tr>\n",
       "  </thead>\n",
       "  <tbody>\n",
       "    <tr>\n",
       "      <th>NextSong</th>\n",
       "      <td>228108</td>\n",
       "    </tr>\n",
       "    <tr>\n",
       "      <th>Thumbs Up</th>\n",
       "      <td>12551</td>\n",
       "    </tr>\n",
       "    <tr>\n",
       "      <th>Thumbs Down</th>\n",
       "      <td>2546</td>\n",
       "    </tr>\n",
       "    <tr>\n",
       "      <th>Add to Playlist</th>\n",
       "      <td>6526</td>\n",
       "    </tr>\n",
       "  </tbody>\n",
       "</table>\n",
       "</div>"
      ],
      "text/plain": [
       "                  count\n",
       "page                   \n",
       "NextSong         228108\n",
       "Thumbs Up         12551\n",
       "Thumbs Down        2546\n",
       "Add to Playlist    6526"
      ]
     },
     "execution_count": 13,
     "metadata": {},
     "output_type": "execute_result"
    }
   ],
   "source": [
    "# pages related to music event\n",
    "df_page.loc[[\"NextSong\", \"Thumbs Up\", \"Thumbs Down\", \"Add to Playlist\"]]"
   ]
  },
  {
   "cell_type": "code",
   "execution_count": 14,
   "metadata": {},
   "outputs": [
    {
     "data": {
      "text/html": [
       "<div>\n",
       "<style scoped>\n",
       "    .dataframe tbody tr th:only-of-type {\n",
       "        vertical-align: middle;\n",
       "    }\n",
       "\n",
       "    .dataframe tbody tr th {\n",
       "        vertical-align: top;\n",
       "    }\n",
       "\n",
       "    .dataframe thead th {\n",
       "        text-align: right;\n",
       "    }\n",
       "</style>\n",
       "<table border=\"1\" class=\"dataframe\">\n",
       "  <thead>\n",
       "    <tr style=\"text-align: right;\">\n",
       "      <th></th>\n",
       "      <th>count</th>\n",
       "    </tr>\n",
       "    <tr>\n",
       "      <th>page</th>\n",
       "      <th></th>\n",
       "    </tr>\n",
       "  </thead>\n",
       "  <tbody>\n",
       "    <tr>\n",
       "      <th>Submit Downgrade</th>\n",
       "      <td>63</td>\n",
       "    </tr>\n",
       "    <tr>\n",
       "      <th>Downgrade</th>\n",
       "      <td>2055</td>\n",
       "    </tr>\n",
       "    <tr>\n",
       "      <th>Submit Upgrade</th>\n",
       "      <td>159</td>\n",
       "    </tr>\n",
       "    <tr>\n",
       "      <th>Upgrade</th>\n",
       "      <td>499</td>\n",
       "    </tr>\n",
       "    <tr>\n",
       "      <th>Cancel</th>\n",
       "      <td>52</td>\n",
       "    </tr>\n",
       "    <tr>\n",
       "      <th>Cancellation Confirmation</th>\n",
       "      <td>52</td>\n",
       "    </tr>\n",
       "  </tbody>\n",
       "</table>\n",
       "</div>"
      ],
      "text/plain": [
       "                           count\n",
       "page                            \n",
       "Submit Downgrade              63\n",
       "Downgrade                   2055\n",
       "Submit Upgrade               159\n",
       "Upgrade                      499\n",
       "Cancel                        52\n",
       "Cancellation Confirmation     52"
      ]
     },
     "execution_count": 14,
     "metadata": {},
     "output_type": "execute_result"
    }
   ],
   "source": [
    "# pages related to upgrade / downgrade / cancel events\n",
    "df_page.loc[[\"Submit Downgrade\", \"Downgrade\", \"Submit Upgrade\", \"Upgrade\", \"Cancel\",\"Cancellation Confirmation\"]]"
   ]
  },
  {
   "cell_type": "code",
   "execution_count": 15,
   "metadata": {},
   "outputs": [
    {
     "data": {
      "text/html": [
       "<div>\n",
       "<style scoped>\n",
       "    .dataframe tbody tr th:only-of-type {\n",
       "        vertical-align: middle;\n",
       "    }\n",
       "\n",
       "    .dataframe tbody tr th {\n",
       "        vertical-align: top;\n",
       "    }\n",
       "\n",
       "    .dataframe thead th {\n",
       "        text-align: right;\n",
       "    }\n",
       "</style>\n",
       "<table border=\"1\" class=\"dataframe\">\n",
       "  <thead>\n",
       "    <tr style=\"text-align: right;\">\n",
       "      <th></th>\n",
       "      <th>count</th>\n",
       "    </tr>\n",
       "    <tr>\n",
       "      <th>page</th>\n",
       "      <th></th>\n",
       "    </tr>\n",
       "  </thead>\n",
       "  <tbody>\n",
       "    <tr>\n",
       "      <th>Home</th>\n",
       "      <td>10082</td>\n",
       "    </tr>\n",
       "    <tr>\n",
       "      <th>Add Friend</th>\n",
       "      <td>4277</td>\n",
       "    </tr>\n",
       "    <tr>\n",
       "      <th>Roll Advert</th>\n",
       "      <td>3933</td>\n",
       "    </tr>\n",
       "    <tr>\n",
       "      <th>Logout</th>\n",
       "      <td>3226</td>\n",
       "    </tr>\n",
       "    <tr>\n",
       "      <th>Settings</th>\n",
       "      <td>1514</td>\n",
       "    </tr>\n",
       "    <tr>\n",
       "      <th>Save Settings</th>\n",
       "      <td>310</td>\n",
       "    </tr>\n",
       "    <tr>\n",
       "      <th>Help</th>\n",
       "      <td>1454</td>\n",
       "    </tr>\n",
       "    <tr>\n",
       "      <th>About</th>\n",
       "      <td>495</td>\n",
       "    </tr>\n",
       "    <tr>\n",
       "      <th>Error</th>\n",
       "      <td>252</td>\n",
       "    </tr>\n",
       "  </tbody>\n",
       "</table>\n",
       "</div>"
      ],
      "text/plain": [
       "               count\n",
       "page                \n",
       "Home           10082\n",
       "Add Friend      4277\n",
       "Roll Advert     3933\n",
       "Logout          3226\n",
       "Settings        1514\n",
       "Save Settings    310\n",
       "Help            1454\n",
       "About            495\n",
       "Error            252"
      ]
     },
     "execution_count": 15,
     "metadata": {},
     "output_type": "execute_result"
    }
   ],
   "source": [
    "# page related to account use\n",
    "df_page.loc[[\"Home\", \"Add Friend\", \"Roll Advert\", \"Logout\", \"Settings\", \"Save Settings\", \"Help\", \"About\", \"Error\"]]"
   ]
  },
  {
   "cell_type": "code",
   "execution_count": 16,
   "metadata": {},
   "outputs": [
    {
     "data": {
      "image/png": "[encoded data removed]",
      "text/plain": [
       "<Figure size 432x288 with 1 Axes>"
      ]
     },
     "metadata": {
      "needs_background": "light"
     },
     "output_type": "display_data"
    }
   ],
   "source": [
    "# date of cancellation\n",
    "date_cancel = pd.DatetimeIndex(df[df[\"page\"]==\"Cancellation Confirmation\"][\"ts\"].values).dayofyear\n",
    "plt.hist(date_cancel, bins = 64);\n",
    "plt.xlim([min(date_cancel), max(date_cancel)])\n",
    "plt.xlabel(\"Day of year\");\n",
    "plt.ylabel(\"Count\");\n",
    "plt.title(\"Cancellation day of year\");\n",
    "plt.savefig(\"cancellation_day_of_year.png\")"
   ]
  },
  {
   "cell_type": "markdown",
   "metadata": {},
   "source": [
    "The cancellations do not occur at a certain time all together meaning that there is no global event that cause the cancellations. We now have to investigate the users who churned compared to the others to see what differences there are on their interaction with the application and their caracteristics."
   ]
  },
  {
   "cell_type": "markdown",
   "metadata": {},
   "source": [
    "# 3. Data preparation"
   ]
  },
  {
   "cell_type": "code",
   "execution_count": 17,
   "metadata": {},
   "outputs": [],
   "source": [
    "# we convert the userId values to integers\n",
    "df[\"userId\"] = df[\"userId\"].astype(int)"
   ]
  },
  {
   "cell_type": "code",
   "execution_count": 18,
   "metadata": {},
   "outputs": [],
   "source": [
    "# In order to distinguish user that churned from those who did not, we need to define a churn value for each user. <br>\n",
    "# In our case, it correspond to users that have seen the \"Cancellation Confirmation\" \"page\".\n",
    "user_ids_churn = df[df[\"page\"]==\"Cancellation Confirmation\"][\"userId\"].unique()\n",
    "df[\"churn\"] = df['userId'].apply(lambda x: 1 if x in user_ids_churn else 0)"
   ]
  },
  {
   "cell_type": "code",
   "execution_count": 19,
   "metadata": {},
   "outputs": [],
   "source": [
    "# we define the users Id group that did not churn\n",
    "user_ids = df[\"userId\"].unique()\n",
    "user_ids_no_churn = list(set(user_ids) - set(user_ids_churn))"
   ]
  },
  {
   "cell_type": "markdown",
   "metadata": {},
   "source": [
    "# 4. Feature exploration"
   ]
  },
  {
   "cell_type": "markdown",
   "metadata": {},
   "source": [
    "The purpose of this section is to test different feature and to compare the users who churn and those who don't."
   ]
  },
  {
   "cell_type": "markdown",
   "metadata": {},
   "source": [
    "### First use after registration"
   ]
  },
  {
   "cell_type": "code",
   "execution_count": 20,
   "metadata": {},
   "outputs": [],
   "source": [
    "# creation of a column \"days since registration\"\n",
    "df[\"days_since_reg\"] = df[\"ts\"].dt.dayofyear - df[\"registration\"].dt.dayofyear"
   ]
  },
  {
   "cell_type": "code",
   "execution_count": 21,
   "metadata": {
    "scrolled": false
   },
   "outputs": [
    {
     "data": {
      "image/png": "[encoded data removed]",
      "text/plain": [
       "<Figure size 432x288 with 1 Axes>"
      ]
     },
     "metadata": {
      "needs_background": "light"
     },
     "output_type": "display_data"
    }
   ],
   "source": [
    "# we collect the first day of use after the registration day for the 2 groups\n",
    "first_use_churn = []\n",
    "first_use_no_churn = []\n",
    "for user in user_ids:\n",
    "    first_use = df[df[\"userId\"]==user].groupby([\"userId\", \"days_since_reg\"])[\"page\"].count().index[0][1]\n",
    "    if user in user_ids_churn:\n",
    "        first_use_churn.append(first_use)\n",
    "    else:\n",
    "         first_use_no_churn.append(first_use)\n",
    "\n",
    "# plot\n",
    "width = 0.35\n",
    "x = [- width/2, width/2]\n",
    "\n",
    "data = [first_use_no_churn, first_use_churn]\n",
    "plt.boxplot(data, showfliers=False);\n",
    "plt.title(\"Delay after registration day\")\n",
    "plt.ylabel(\"count\")\n",
    "plt.xticks([1,2], [\"no churn\", \"churn\"]);\n",
    "plt.savefig(\"delay_first_use_after_registration.png\")"
   ]
  },
  {
   "cell_type": "markdown",
   "metadata": {},
   "source": [
    "**On this boxplot, we don't see a major difference between the 2 groups. <br>\n",
    "The first day of use after registration is not a good feature for our purpose.**"
   ]
  },
  {
   "cell_type": "markdown",
   "metadata": {},
   "source": [
    "### Number of pages seen per week"
   ]
  },
  {
   "cell_type": "code",
   "execution_count": 22,
   "metadata": {},
   "outputs": [],
   "source": [
    "df[\"ts_year\"] = df[\"ts\"].dt.year\n",
    "df[\"ts_week\"] = df[\"ts\"].dt.week\n",
    "df[\"ts_month\"] = df[\"ts\"].dt.month"
   ]
  },
  {
   "cell_type": "code",
   "execution_count": 23,
   "metadata": {},
   "outputs": [
    {
     "data": {
      "image/png": "[encoded data removed]",
      "text/plain": [
       "<Figure size 432x288 with 1 Axes>"
      ]
     },
     "metadata": {
      "needs_background": "light"
     },
     "output_type": "display_data"
    }
   ],
   "source": [
    "freq_churn = []\n",
    "freq_no_churn = []\n",
    "for user in user_ids:\n",
    "    freq = df[df[\"userId\"]==user].groupby([\"userId\", \"ts_week\"])[\"page\"].count().values.mean()\n",
    "    if user in user_ids_churn:\n",
    "        freq_churn.append(freq)\n",
    "    else:\n",
    "         freq_no_churn.append(freq)\n",
    "\n",
    "# plot\n",
    "width = 0.35\n",
    "x = [- width/2, width/2]\n",
    "data = [freq_no_churn, freq_churn]\n",
    "plt.boxplot(data, showfliers=False);\n",
    "plt.title(\"Pages / week\")\n",
    "plt.xticks([1,2], [\"no churn\", \"churn\"]);\n",
    "plt.ylabel(\"count\")\n",
    "plt.savefig(\"pages_week.png\")"
   ]
  },
  {
   "cell_type": "markdown",
   "metadata": {},
   "source": [
    "**On this boxplot, we don't see a major difference between the 2 groups. <br>\n",
    "The Number of pages seen per week is not a good feature for our purpose.**"
   ]
  },
  {
   "cell_type": "markdown",
   "metadata": {},
   "source": [
    "### Number of pages seen per day"
   ]
  },
  {
   "cell_type": "code",
   "execution_count": 24,
   "metadata": {},
   "outputs": [
    {
     "data": {
      "image/png": "[encoded data removed]",
      "text/plain": [
       "<Figure size 432x288 with 1 Axes>"
      ]
     },
     "metadata": {
      "needs_background": "light"
     },
     "output_type": "display_data"
    }
   ],
   "source": [
    "freq_churn = []\n",
    "freq_no_churn = []\n",
    "for user in user_ids:\n",
    "    freq = df[df[\"userId\"]==user].groupby([\"userId\", \"days_since_reg\"])[\"page\"].count().values.mean()\n",
    "    if user in user_ids_churn:\n",
    "        freq_churn.append(freq)\n",
    "    else:\n",
    "         freq_no_churn.append(freq)\n",
    "\n",
    "# plot\n",
    "width = 0.35\n",
    "x = [- width/2, width/2]\n",
    "data = [freq_no_churn, freq_churn]\n",
    "plt.boxplot(data, showfliers=True);\n",
    "plt.title(\"Pages / day\")\n",
    "plt.xticks([1,2], [\"no churn\", \"churn\"]);\n",
    "plt.ylabel(\"count\")\n",
    "plt.savefig(\"pages_day.png\")"
   ]
  },
  {
   "cell_type": "markdown",
   "metadata": {},
   "source": [
    "**On this boxplot, we don't see a major difference between the 2 groups. <br>\n",
    "The number of pages seen per day is not a good feature for our purpose.**"
   ]
  },
  {
   "cell_type": "markdown",
   "metadata": {},
   "source": [
    "### Days difference between successive connection"
   ]
  },
  {
   "cell_type": "code",
   "execution_count": 25,
   "metadata": {
    "scrolled": false
   },
   "outputs": [
    {
     "data": {
      "image/png": "[encoded data removed]",
      "text/plain": [
       "<Figure size 432x288 with 1 Axes>"
      ]
     },
     "metadata": {
      "needs_background": "light"
     },
     "output_type": "display_data"
    }
   ],
   "source": [
    "freq_churn = []\n",
    "freq_no_churn = []\n",
    "for user in user_ids:\n",
    "    days = df[df[\"userId\"]==user][\"days_since_reg\"].unique()\n",
    "    if len(days) > 1:\n",
    "        freq = np.mean(np.diff(days))\n",
    "    else:\n",
    "        # if there is only one connection then we set the mean difference to one\n",
    "        freq = 0\n",
    "    if user in user_ids_churn:\n",
    "        freq_churn.append(freq)\n",
    "    else:\n",
    "         freq_no_churn.append(freq)\n",
    "\n",
    "# plot\n",
    "width = 0.35\n",
    "x = [-width/2, width/2]\n",
    "data = [freq_no_churn, freq_churn]\n",
    "plt.boxplot(data, showfliers=False);\n",
    "plt.title(\"Average days difference between connection\")\n",
    "plt.xticks([1, 2], [\"no churn\", \"churn\"]);\n",
    "plt.ylabel(\"days\")\n",
    "plt.savefig(\"avg_days_diff_between_session.png\")"
   ]
  },
  {
   "cell_type": "markdown",
   "metadata": {},
   "source": [
    "**On this boxplot, we don't see a major difference between the 2 groups. <br>\n",
    "The average days difference between sessions is a good feature for our purpose.**"
   ]
  },
  {
   "cell_type": "markdown",
   "metadata": {},
   "source": [
    "### Raw count of each page"
   ]
  },
  {
   "cell_type": "markdown",
   "metadata": {},
   "source": [
    "Here, we have a look on the raw count of all the pages type for both groups and we compare them."
   ]
  },
  {
   "cell_type": "code",
   "execution_count": 26,
   "metadata": {},
   "outputs": [],
   "source": [
    "# we create dataframe with userId in the first column, a count of the named page in the second.\n",
    "n_nextsong = pd.DataFrame(df[df[\"page\"]==\"NextSong\"].groupby(\"userId\")[\"page\"].count().rename(\"n_nextsong\"))\n",
    "n_thumbs_up = df[df[\"page\"]==\"Thumbs Up\"].groupby(\"userId\")[\"page\"].count().rename(\"n_thumbs_up\")\n",
    "n_home = df[df[\"page\"]==\"Home\"].groupby(\"userId\")[\"page\"].count().rename(\"n_home\")\n",
    "n_add_to_playlist = df[df[\"page\"]==\"Add to Playlist\"].groupby(\"userId\")[\"page\"].count().rename(\"n_add_to_playlist\")\n",
    "n_add_friends = df[df[\"page\"]==\"Add Friend\"].groupby(\"userId\")[\"page\"].count().rename(\"n_add_friends\")\n",
    "n_roll_advert = df[df[\"page\"]==\"Roll Advert\"].groupby(\"userId\")[\"page\"].count().rename(\"n_roll_advert\")\n",
    "n_logout = df[df[\"page\"]==\"Logout\"].groupby(\"userId\")[\"page\"].count().rename(\"n_logout\")\n",
    "n_thumbs_down = df[df[\"page\"]==\"Thumbs Down\"].groupby(\"userId\")[\"page\"].count().rename(\"n_thumbs_down\")\n",
    "n_downgrade = df[df[\"page\"]==\"Downgrade\"].groupby(\"userId\")[\"page\"].count().rename(\"n_downgrade\")\n",
    "n_settings = df[df[\"page\"]==\"Settings\"].groupby(\"userId\")[\"page\"].count().rename(\"n_settings\")\n",
    "n_help = df[df[\"page\"]==\"Help\"].groupby(\"userId\")[\"page\"].count().rename(\"n_help\")\n",
    "n_upgrade = df[df[\"page\"]==\"Upgrade\"].groupby(\"userId\")[\"page\"].count().rename(\"n_upgrade\")\n",
    "n_about = df[df[\"page\"]==\"About\"].groupby(\"userId\")[\"page\"].count().rename(\"n_about\")\n",
    "n_save_settings = df[df[\"page\"]==\"Save Settings\"].groupby(\"userId\")[\"page\"].count().rename(\"n_save_settings\")\n",
    "n_error = df[df[\"page\"]==\"Error\"].groupby(\"userId\")[\"page\"].count().rename(\"n_error\")\n",
    "n_submit_upgrade = df[df[\"page\"]==\"Submit Upgrade\"].groupby(\"userId\")[\"page\"].count().rename(\"n_submit_upgrade\")\n",
    "n_submit_downgrade = df[df[\"page\"]==\"Submit Downgrade\"].groupby(\"userId\")[\"page\"].count().rename(\"n_submit_downgrade\")\n",
    "n_cancel = df[df[\"page\"]==\"Cancel\"].groupby(\"userId\")[\"page\"].count().rename(\"n_cancel\")\n",
    "n_cancel_confirmation = df[df[\"page\"]==\"Cancellation Confirmation\"].groupby(\"userId\")[\"page\"].count().rename(\"n_cancel_confirmation\")"
   ]
  },
  {
   "cell_type": "code",
   "execution_count": 27,
   "metadata": {},
   "outputs": [],
   "source": [
    "# we join the dataframe together with userId as reference column. We use outer join.\n",
    "users_df = n_nextsong.join(n_thumbs_up, on=\"userId\", how=\"outer\")\\\n",
    "                     .join(n_home, on=\"userId\", how=\"outer\")\\\n",
    "                     .join(n_add_to_playlist, on=\"userId\", how=\"outer\")\\\n",
    "                     .join(n_add_friends, on=\"userId\", how=\"outer\")\\\n",
    "                     .join(n_roll_advert, on=\"userId\", how=\"outer\")\\\n",
    "                     .join(n_logout, on=\"userId\", how=\"outer\")\\\n",
    "                     .join(n_thumbs_down, on=\"userId\", how=\"outer\")\\\n",
    "                     .join(n_downgrade, on=\"userId\", how=\"outer\")\\\n",
    "                     .join(n_settings, on=\"userId\", how=\"outer\")\\\n",
    "                     .join(n_help, on=\"userId\", how=\"outer\")\\\n",
    "                     .join(n_upgrade, on=\"userId\", how=\"outer\")\\\n",
    "                     .join(n_about, on=\"userId\", how=\"outer\")\\\n",
    "                     .join(n_save_settings, on=\"userId\", how=\"outer\")\\\n",
    "                     .join(n_error, on=\"userId\", how=\"outer\")\\\n",
    "                     .join(n_submit_upgrade, on=\"userId\", how=\"outer\")\\\n",
    "                     .join(n_submit_downgrade, on=\"userId\", how=\"outer\")\\\n",
    "                     .join(n_cancel, on=\"userId\", how=\"outer\")\\\n",
    "                     .join(n_cancel_confirmation, on=\"userId\", how=\"outer\")"
   ]
  },
  {
   "cell_type": "code",
   "execution_count": 28,
   "metadata": {},
   "outputs": [],
   "source": [
    "# The null values correspond to pages not seen by users. We can replace the null values by zeros.\n",
    "users_df = users_df.fillna(0)"
   ]
  },
  {
   "cell_type": "code",
   "execution_count": 29,
   "metadata": {},
   "outputs": [],
   "source": [
    "# we convert the gender categorical feature to integers (men : 1, women : 0)\n",
    "df[\"gender\"] = df[\"gender\"].apply(lambda x: 1 if x==\"M\" else 0)\n",
    "gender = df[[\"userId\", \"gender\"]].groupby(\"userId\").max()"
   ]
  },
  {
   "cell_type": "code",
   "execution_count": 30,
   "metadata": {},
   "outputs": [],
   "source": [
    "# we convert the level categorical feature to integers (paid : 1, free : 0)\n",
    "df[\"level\"] = df[\"level\"].apply(lambda x: 1 if x==\"paid\" else 0)\n",
    "level =  df[[\"userId\", \"level\"]].groupby(\"userId\").max()"
   ]
  },
  {
   "cell_type": "code",
   "execution_count": 31,
   "metadata": {},
   "outputs": [],
   "source": [
    "# number of session dataframe\n",
    "n_sessions = df[[\"userId\", \"sessionId\"]].groupby(\"userId\")[\"sessionId\"].unique().apply(len).rename(\"n_sessions\")"
   ]
  },
  {
   "cell_type": "code",
   "execution_count": 32,
   "metadata": {},
   "outputs": [],
   "source": [
    "# we join the dataframes to the users_df\n",
    "users_df = users_df.join(gender, on=\"userId\", how=\"outer\")\\\n",
    "                   .join(level, on=\"userId\", how=\"outer\")\\\n",
    "                   .join(n_sessions, on=\"userId\", how=\"outer\")"
   ]
  },
  {
   "cell_type": "code",
   "execution_count": 33,
   "metadata": {},
   "outputs": [
    {
     "data": {
      "text/plain": [
       "Index(['n_nextsong', 'n_thumbs_up', 'n_home', 'n_add_to_playlist',\n",
       "       'n_add_friends', 'n_roll_advert', 'n_logout', 'n_thumbs_down',\n",
       "       'n_downgrade', 'n_settings', 'n_help', 'n_upgrade', 'n_about',\n",
       "       'n_save_settings', 'n_error', 'n_submit_upgrade', 'n_submit_downgrade',\n",
       "       'n_cancel', 'n_cancel_confirmation', 'gender', 'level', 'n_sessions'],\n",
       "      dtype='object')"
      ]
     },
     "execution_count": 33,
     "metadata": {},
     "output_type": "execute_result"
    }
   ],
   "source": [
    "users_df.columns"
   ]
  },
  {
   "cell_type": "code",
   "execution_count": 34,
   "metadata": {
    "scrolled": false
   },
   "outputs": [
    {
     "data": {
      "image/png": "[encoded data removed]",
      "text/plain": [
       "<Figure size 432x288 with 1 Axes>"
      ]
     },
     "metadata": {
      "needs_background": "light"
     },
     "output_type": "display_data"
    },
    {
     "data": {
      "image/png": "[encoded data removed]",
      "text/plain": [
       "<Figure size 432x288 with 1 Axes>"
      ]
     },
     "metadata": {
      "needs_background": "light"
     },
     "output_type": "display_data"
    },
    {
     "data": {
      "image/png": "[encoded data removed]",
      "text/plain": [
       "<Figure size 432x288 with 1 Axes>"
      ]
     },
     "metadata": {
      "needs_background": "light"
     },
     "output_type": "display_data"
    },
    {
     "data": {
      "image/png": "[encoded data removed]",
      "text/plain": [
       "<Figure size 432x288 with 1 Axes>"
      ]
     },
     "metadata": {
      "needs_background": "light"
     },
     "output_type": "display_data"
    },
    {
     "data": {
      "image/png": "[encoded data removed]",
      "text/plain": [
       "<Figure size 432x288 with 1 Axes>"
      ]
     },
     "metadata": {
      "needs_background": "light"
     },
     "output_type": "display_data"
    },
    {
     "data": {
      "image/png": "[encoded data removed]",
      "text/plain": [
       "<Figure size 432x288 with 1 Axes>"
      ]
     },
     "metadata": {
      "needs_background": "light"
     },
     "output_type": "display_data"
    },
    {
     "data": {
      "image/png": "[encoded data removed]",
      "text/plain": [
       "<Figure size 432x288 with 1 Axes>"
      ]
     },
     "metadata": {
      "needs_background": "light"
     },
     "output_type": "display_data"
    },
    {
     "data": {
      "image/png": "[encoded data removed]",
      "text/plain": [
       "<Figure size 432x288 with 1 Axes>"
      ]
     },
     "metadata": {
      "needs_background": "light"
     },
     "output_type": "display_data"
    },
    {
     "data": {
      "image/png": "[encoded data removed]",
      "text/plain": [
       "<Figure size 432x288 with 1 Axes>"
      ]
     },
     "metadata": {
      "needs_background": "light"
     },
     "output_type": "display_data"
    },
    {
     "data": {
      "image/png": "[encoded data removed]",
      "text/plain": [
       "<Figure size 432x288 with 1 Axes>"
      ]
     },
     "metadata": {
      "needs_background": "light"
     },
     "output_type": "display_data"
    },
    {
     "data": {
      "image/png": "[encoded data removed]",
      "text/plain": [
       "<Figure size 432x288 with 1 Axes>"
      ]
     },
     "metadata": {
      "needs_background": "light"
     },
     "output_type": "display_data"
    },
    {
     "data": {
      "image/png": "[encoded data removed]",
      "text/plain": [
       "<Figure size 432x288 with 1 Axes>"
      ]
     },
     "metadata": {
      "needs_background": "light"
     },
     "output_type": "display_data"
    },
    {
     "data": {
      "image/png": "[encoded data removed]",
      "text/plain": [
       "<Figure size 432x288 with 1 Axes>"
      ]
     },
     "metadata": {
      "needs_background": "light"
     },
     "output_type": "display_data"
    },
    {
     "data": {
      "image/png": "[encoded data removed]",
      "text/plain": [
       "<Figure size 432x288 with 1 Axes>"
      ]
     },
     "metadata": {
      "needs_background": "light"
     },
     "output_type": "display_data"
    },
    {
     "data": {
      "image/png": "[encoded data removed]",
      "text/plain": [
       "<Figure size 432x288 with 1 Axes>"
      ]
     },
     "metadata": {
      "needs_background": "light"
     },
     "output_type": "display_data"
    },
    {
     "data": {
      "image/png": "[encoded data removed]",
      "text/plain": [
       "<Figure size 432x288 with 1 Axes>"
      ]
     },
     "metadata": {
      "needs_background": "light"
     },
     "output_type": "display_data"
    },
    {
     "data": {
      "image/png": "[encoded data removed]",
      "text/plain": [
       "<Figure size 432x288 with 1 Axes>"
      ]
     },
     "metadata": {
      "needs_background": "light"
     },
     "output_type": "display_data"
    },
    {
     "data": {
      "image/png": "[encoded data removed]",
      "text/plain": [
       "<Figure size 432x288 with 1 Axes>"
      ]
     },
     "metadata": {
      "needs_background": "light"
     },
     "output_type": "display_data"
    },
    {
     "data": {
      "image/png": "[encoded data removed]",
      "text/plain": [
       "<Figure size 432x288 with 1 Axes>"
      ]
     },
     "metadata": {
      "needs_background": "light"
     },
     "output_type": "display_data"
    }
   ],
   "source": [
    "column_names = [\"n_nextsong\", \"n_thumbs_up\", \"n_home\", \"n_add_to_playlist\", \"n_add_friends\", \"n_roll_advert\", \"n_logout\", \n",
    "                \"n_thumbs_down\", \"n_downgrade\", \"n_help\", \"n_settings\", \"n_upgrade\", \"n_about\", \"n_save_settings\", \"n_error\", \n",
    "                \"n_submit_upgrade\", \"n_submit_downgrade\", \"n_cancel\", \"n_cancel_confirmation\"]\n",
    "\n",
    "width = 0.35\n",
    "\n",
    "for n, col in enumerate(column_names):\n",
    "    churn = users_df[users_df[\"n_cancel_confirmation\"]==1][col].values\n",
    "    no_churn = users_df[users_df[\"n_cancel_confirmation\"]==0][col].values\n",
    "    data = [no_churn, churn]\n",
    "    plt.figure()\n",
    "    plt.boxplot(data, showfliers=False);\n",
    "    plt.xticks([1, 2],[\"not_churn\",\"churn\"])\n",
    "    plt.title(col);\n",
    "    plt.ylabel(\"count\");\n",
    "    plt.savefig(\"pages_raw_counts_\"+col+\".png\")"
   ]
  },
  {
   "cell_type": "markdown",
   "metadata": {},
   "source": [
    "**The users that did not churn have seen globally more pages that users that churn. <br>\n",
    "Most of the plot are biased by this phenomena.<br>\n",
    "We can't use most of this features without normalize by something that allow us to compare users that churn from those who don't. <br>\n",
    "We only keep the number of friends of the users because we supose here that users can add their friends very quickly if they know other people that are using the app before their registration.**"
   ]
  },
  {
   "cell_type": "markdown",
   "metadata": {},
   "source": [
    "### Pages / number of songs"
   ]
  },
  {
   "cell_type": "code",
   "execution_count": 35,
   "metadata": {
    "scrolled": false
   },
   "outputs": [
    {
     "data": {
      "image/png": "[encoded data removed]",
      "text/plain": [
       "<Figure size 432x288 with 1 Axes>"
      ]
     },
     "metadata": {
      "needs_background": "light"
     },
     "output_type": "display_data"
    },
    {
     "data": {
      "image/png": "[encoded data removed]",
      "text/plain": [
       "<Figure size 432x288 with 1 Axes>"
      ]
     },
     "metadata": {
      "needs_background": "light"
     },
     "output_type": "display_data"
    },
    {
     "data": {
      "image/png": "[encoded data removed]",
      "text/plain": [
       "<Figure size 432x288 with 1 Axes>"
      ]
     },
     "metadata": {
      "needs_background": "light"
     },
     "output_type": "display_data"
    },
    {
     "data": {
      "image/png": "[encoded data removed]",
      "text/plain": [
       "<Figure size 432x288 with 1 Axes>"
      ]
     },
     "metadata": {
      "needs_background": "light"
     },
     "output_type": "display_data"
    }
   ],
   "source": [
    "column_names = [\"n_thumbs_up\", \"n_thumbs_down\", \"n_add_to_playlist\", \"n_roll_advert\"]\n",
    "\n",
    "for col in column_names:\n",
    "    users_df[\"r\"+col[1:]+\"_song\"] = users_df[col] / users_df[\"n_nextsong\"]\n",
    "\n",
    "width = 0.35\n",
    "\n",
    "for n, col in enumerate(column_names):\n",
    "    churn = users_df[users_df[\"n_cancel_confirmation\"]==1][\"r\"+col[1:]+\"_song\"].values\n",
    "    no_churn = users_df[users_df[\"n_cancel_confirmation\"]==0][\"r\"+col[1:]+\"_song\"].values\n",
    "    data = [no_churn, churn]\n",
    "    plt.figure()\n",
    "    plt.boxplot(data, showfliers=False);\n",
    "    plt.xticks([1, 2],[\"not_churn\",\"churn\"])\n",
    "    plt.title(\"r\"+col[1:]+\"_song\");\n",
    "    plt.ylabel(\"count / song\");\n",
    "    plt.savefig(\"r\"+col[1:]+\"_song\"+\".png\")"
   ]
  },
  {
   "cell_type": "markdown",
   "metadata": {},
   "source": [
    "**The number of thumbs up and song added to playlist per song for the 2 groups is not that different. <br>\n",
    "The number of thumbs down / song and the number of roll advertisement shows a significative difference between the 2 groups. We keep them as features.**"
   ]
  },
  {
   "cell_type": "markdown",
   "metadata": {},
   "source": [
    "### Pages / number of sessions"
   ]
  },
  {
   "cell_type": "code",
   "execution_count": 36,
   "metadata": {
    "scrolled": false
   },
   "outputs": [
    {
     "data": {
      "image/png": "[encoded data removed]",
      "text/plain": [
       "<Figure size 432x288 with 1 Axes>"
      ]
     },
     "metadata": {
      "needs_background": "light"
     },
     "output_type": "display_data"
    },
    {
     "data": {
      "image/png": "[encoded data removed]",
      "text/plain": [
       "<Figure size 432x288 with 1 Axes>"
      ]
     },
     "metadata": {
      "needs_background": "light"
     },
     "output_type": "display_data"
    },
    {
     "data": {
      "image/png": "[encoded data removed]",
      "text/plain": [
       "<Figure size 432x288 with 1 Axes>"
      ]
     },
     "metadata": {
      "needs_background": "light"
     },
     "output_type": "display_data"
    },
    {
     "data": {
      "image/png": "[encoded data removed]",
      "text/plain": [
       "<Figure size 432x288 with 1 Axes>"
      ]
     },
     "metadata": {
      "needs_background": "light"
     },
     "output_type": "display_data"
    },
    {
     "data": {
      "image/png": "[encoded data removed]",
      "text/plain": [
       "<Figure size 432x288 with 1 Axes>"
      ]
     },
     "metadata": {
      "needs_background": "light"
     },
     "output_type": "display_data"
    },
    {
     "data": {
      "image/png": "[encoded data removed]",
      "text/plain": [
       "<Figure size 432x288 with 1 Axes>"
      ]
     },
     "metadata": {
      "needs_background": "light"
     },
     "output_type": "display_data"
    },
    {
     "data": {
      "image/png": "[encoded data removed]",
      "text/plain": [
       "<Figure size 432x288 with 1 Axes>"
      ]
     },
     "metadata": {
      "needs_background": "light"
     },
     "output_type": "display_data"
    },
    {
     "data": {
      "image/png": "[encoded data removed]",
      "text/plain": [
       "<Figure size 432x288 with 1 Axes>"
      ]
     },
     "metadata": {
      "needs_background": "light"
     },
     "output_type": "display_data"
    },
    {
     "data": {
      "image/png": "[encoded data removed]",
      "text/plain": [
       "<Figure size 432x288 with 1 Axes>"
      ]
     },
     "metadata": {
      "needs_background": "light"
     },
     "output_type": "display_data"
    },
    {
     "data": {
      "image/png": "[encoded data removed]",
      "text/plain": [
       "<Figure size 432x288 with 1 Axes>"
      ]
     },
     "metadata": {
      "needs_background": "light"
     },
     "output_type": "display_data"
    },
    {
     "data": {
      "image/png": "[encoded data removed]",
      "text/plain": [
       "<Figure size 432x288 with 1 Axes>"
      ]
     },
     "metadata": {
      "needs_background": "light"
     },
     "output_type": "display_data"
    },
    {
     "data": {
      "image/png": "[encoded data removed]",
      "text/plain": [
       "<Figure size 432x288 with 1 Axes>"
      ]
     },
     "metadata": {
      "needs_background": "light"
     },
     "output_type": "display_data"
    },
    {
     "data": {
      "image/png": "[encoded data removed]",
      "text/plain": [
       "<Figure size 432x288 with 1 Axes>"
      ]
     },
     "metadata": {
      "needs_background": "light"
     },
     "output_type": "display_data"
    },
    {
     "data": {
      "image/png": "[encoded data removed]",
      "text/plain": [
       "<Figure size 432x288 with 1 Axes>"
      ]
     },
     "metadata": {
      "needs_background": "light"
     },
     "output_type": "display_data"
    }
   ],
   "source": [
    "column_names = [\"n_nextsong\", \"n_home\", \"n_roll_advert\", \"n_logout\", \"n_downgrade\", \n",
    "                \"n_settings\", \"n_upgrade\", \"n_about\", \"n_error\", \"n_submit_upgrade\", \n",
    "                \"n_help\", \"n_submit_downgrade\", \"n_cancel\", \"n_cancel_confirmation\"]\n",
    "\n",
    "for col in column_names:\n",
    "    users_df[\"r\"+col[1:]+\"_session\"] = users_df[col] / users_df[\"n_sessions\"]\n",
    "\n",
    "width = 0.35\n",
    "\n",
    "for n, col in enumerate(column_names):\n",
    "    churn = users_df[users_df[\"n_cancel_confirmation\"]==1][\"r\"+col[1:]+\"_session\"].values\n",
    "    no_churn = users_df[users_df[\"n_cancel_confirmation\"]==0][\"r\"+col[1:]+\"_session\"].values\n",
    "    data = [no_churn, churn]\n",
    "    plt.figure()\n",
    "    plt.boxplot(data, showfliers=False);\n",
    "    plt.xticks([1, 2],[\"not_churn\",\"churn\"])\n",
    "    plt.title(\"r\"+col[1:]+\"_session\");\n",
    "    plt.ylabel(\"count / session\");\n",
    "    plt.savefig(\"r\"+col[1:]+\"_session\"+\".png\")"
   ]
  },
  {
   "cell_type": "markdown",
   "metadata": {},
   "source": [
    "**Only the number of songs / session, the about page / session and error / session shows significative difference in their distribution. we keep them as feature.**"
   ]
  },
  {
   "cell_type": "markdown",
   "metadata": {},
   "source": [
    "### Gender, Level"
   ]
  },
  {
   "cell_type": "code",
   "execution_count": 37,
   "metadata": {},
   "outputs": [
    {
     "data": {
      "image/png": "[encoded data removed]",
      "text/plain": [
       "<Figure size 432x288 with 1 Axes>"
      ]
     },
     "metadata": {
      "needs_background": "light"
     },
     "output_type": "display_data"
    },
    {
     "data": {
      "image/png": "[encoded data removed]",
      "text/plain": [
       "<Figure size 432x288 with 1 Axes>"
      ]
     },
     "metadata": {
      "needs_background": "light"
     },
     "output_type": "display_data"
    }
   ],
   "source": [
    "\n",
    "\n",
    "width = 0.35\n",
    "column_names = [\"level\", \"gender\"]\n",
    "legend_name = [[\"free\", \"paid\"], [\"women\", \"men\"]]\n",
    "\n",
    "for n, col in enumerate(column_names):\n",
    "    churn_0 = users_df[(users_df[\"n_cancel_confirmation\"]==1) & (users_df[col]==0)][\"n_cancel_confirmation\"].count()\n",
    "    churn_1 = users_df[(users_df[\"n_cancel_confirmation\"]==1) & (users_df[col]==1)][\"n_cancel_confirmation\"].count()\n",
    "    plt.figure()\n",
    "    plt.bar(0, churn_0, label=legend_name[n][0]);\n",
    "    plt.bar(1, churn_1, label=legend_name[n][1]);\n",
    "    plt.xticks([], [])\n",
    "    \n",
    "    plt.legend()\n",
    "    plt.title(col + \"_churn\") \n",
    "    plt.ylabel(\"count\")\n",
    "    plt.savefig(col + \"_churn.png\") "
   ]
  },
  {
   "cell_type": "markdown",
   "metadata": {},
   "source": [
    "**The gender and the level both show significative difference between the 2 groups. We keep them as features.**"
   ]
  },
  {
   "cell_type": "markdown",
   "metadata": {},
   "source": [
    "# Conclusion\n",
    "\n",
    "**The features that shows a bigger difference between churn and no churn group are :**\n",
    "- **n_friends**\n",
    "- **r_nextsong_session**\n",
    "- **r_roll_advert_song**\n",
    "- **r_about_session**\n",
    "- **r_error_session**\n",
    "- **r_thumbs_down_song**\n",
    "- **gender**\n",
    "- **level**\n",
    "- **avg_diff_days**\n",
    "\n",
    "**We will use them in the next notebook to build, train and evaluate a machine learning model that we can deploy on a cluster if we want to use a big dataset.**"
   ]
  }
 ],
 "metadata": {
  "kernelspec": {
   "display_name": "Python 3",
   "language": "python",
   "name": "python3"
  },
  "language_info": {
   "codemirror_mode": {
    "name": "ipython",
    "version": 3
   },
   "file_extension": ".py",
   "mimetype": "text/x-python",
   "name": "python",
   "nbconvert_exporter": "python",
   "pygments_lexer": "ipython3",
   "version": "3.7.3"
  }
 },
 "nbformat": 4,
 "nbformat_minor": 2
}
